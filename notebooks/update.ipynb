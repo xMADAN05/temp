{
 "cells": [
  {
   "cell_type": "code",
   "execution_count": 25,
   "metadata": {},
   "outputs": [
    {
     "name": "stdout",
     "output_type": "stream",
     "text": [
      "Adding new item to DynamoDB...\n",
      "\n",
      "Before update:\n",
      "{'id': '1cff17b4-ee48-4dc9-a9c9-9abbf3ff618c', 'submitted_at': '2025-03-11T15:09:07.289907', 'feedback_comment': 'Initial feedback comment'}\n"
     ]
    }
   ],
   "source": [
    "import boto3\n",
    "import uuid\n",
    "from datetime import datetime\n",
    "\n",
    "# Initialize DynamoDB resource\n",
    "dynamodb = boto3.resource('dynamodb', region_name=\"us-west-2\")\n",
    "table = dynamodb.Table(\"feedback\")\n",
    "\n",
    "# Generate a unique ID for our new item\n",
    "new_feedback_id = str(uuid.uuid4())\n",
    "\n",
    "# Create new item\n",
    "new_item = {\n",
    "    'id': new_feedback_id,\n",
    "    'feedback_comment': 'Initial feedback comment',\n",
    "    'submitted_at': datetime.now().isoformat()\n",
    "}\n",
    "\n",
    "# Add the new item to the table\n",
    "print(\"Adding new item to DynamoDB...\")\n",
    "table.put_item(Item=new_item)\n",
    "\n",
    "# Retrieve and print the item before update\n",
    "print(\"\\nBefore update:\")\n",
    "response = table.get_item(Key={'id': new_feedback_id})  # Using 'id' instead of 'feedback_id'\n",
    "original_item = response.get('Item')\n",
    "print(original_item)"
   ]
  },
  {
   "cell_type": "code",
   "execution_count": 26,
   "metadata": {},
   "outputs": [
    {
     "name": "stdout",
     "output_type": "stream",
     "text": [
      "\n",
      "Updating item...\n"
     ]
    },
    {
     "data": {
      "text/plain": [
       "{'ResponseMetadata': {'RequestId': 'U4AIEPGIDP15HLN46IQMFPP853VV4KQNSO5AEMVJF66Q9ASUAAJG',\n",
       "  'HTTPStatusCode': 200,\n",
       "  'HTTPHeaders': {'server': 'Server',\n",
       "   'date': 'Tue, 11 Mar 2025 15:09:10 GMT',\n",
       "   'content-type': 'application/x-amz-json-1.0',\n",
       "   'content-length': '2',\n",
       "   'connection': 'keep-alive',\n",
       "   'x-amzn-requestid': 'U4AIEPGIDP15HLN46IQMFPP853VV4KQNSO5AEMVJF66Q9ASUAAJG',\n",
       "   'x-amz-crc32': '2745614147'},\n",
       "  'RetryAttempts': 0}}"
      ]
     },
     "execution_count": 26,
     "metadata": {},
     "output_type": "execute_result"
    }
   ],
   "source": [
    "# Update the item\n",
    "print(\"\\nUpdating item...\")\n",
    "# Using expression attribute names to avoid reserved keywords\n",
    "update_expression = \"SET \"\n",
    "expression_attribute_values = {}\n",
    "expression_attribute_names = {}\n",
    "\n",
    "# Values to update\n",
    "updated_values = {\n",
    "    'feedback_comment': 'Updated feedback comment',\n",
    "    'updated_at': datetime.now().isoformat()\n",
    "}\n",
    "\n",
    "# Build update expression with attribute names\n",
    "for i, (key, value) in enumerate(updated_values.items()):\n",
    "    attribute_name = f\"#attr{i}\"\n",
    "    attribute_value = f\":val{i}\"\n",
    "    \n",
    "    update_expression += f\"{attribute_name} = {attribute_value}, \"\n",
    "    expression_attribute_names[attribute_name] = key\n",
    "    expression_attribute_values[attribute_value] = value\n",
    "\n",
    "# Remove trailing comma and space\n",
    "update_expression = update_expression[:-2]\n",
    "\n",
    "# Use 'id' as the key name\n",
    "table.update_item(\n",
    "    Key={'id': new_feedback_id},  # Using 'id' instead of 'feedback_id'\n",
    "    UpdateExpression=update_expression,\n",
    "    ExpressionAttributeNames=expression_attribute_names,\n",
    "    ExpressionAttributeValues=expression_attribute_values\n",
    ")"
   ]
  },
  {
   "cell_type": "code",
   "execution_count": 27,
   "metadata": {},
   "outputs": [
    {
     "name": "stdout",
     "output_type": "stream",
     "text": [
      "\n",
      "After update:\n",
      "{'updated_at': '2025-03-11T15:09:08.469227', 'id': '1cff17b4-ee48-4dc9-a9c9-9abbf3ff618c', 'submitted_at': '2025-03-11T15:09:07.289907', 'feedback_comment': 'Updated feedback comment'}\n"
     ]
    }
   ],
   "source": [
    "# Retrieve and print the item after update\n",
    "print(\"\\nAfter update:\")\n",
    "response = table.get_item(Key={'id': new_feedback_id})  # Using 'id' instead of 'feedback_id'\n",
    "updated_item = response.get('Item')\n",
    "print(updated_item)"
   ]
  },
  {
   "cell_type": "code",
   "execution_count": 28,
   "metadata": {},
   "outputs": [
    {
     "name": "stdout",
     "output_type": "stream",
     "text": [
      "\n",
      "Scanning all items...\n",
      "Found 45 items in total\n"
     ]
    }
   ],
   "source": [
    "# Scan all items\n",
    "print(\"\\nScanning all items...\")\n",
    "response = table.scan()\n",
    "items = response.get('Items', [])\n",
    "\n",
    "while 'LastEvaluatedKey' in response:\n",
    "    response = table.scan(ExclusiveStartKey=response['LastEvaluatedKey'])\n",
    "    items.extend(response.get('Items', []))\n",
    "\n",
    "print(f\"Found {len(items)} items in total\")\n"
   ]
  },
  {
   "cell_type": "code",
   "execution_count": 29,
   "metadata": {},
   "outputs": [
    {
     "data": {
      "text/plain": [
       "'\\n# Delete all items\\nprint(\"\\nDeleting all items...\")\\nwith table.batch_writer() as batch:\\n    for item in items:\\n        batch.delete_item(Key={\\'id\\': item[\\'id\\']})  # Using \\'id\\' instead of \\'feedback_id\\'\\n\\nprint(f\"Deleted {len(items)} items\")\\n'"
      ]
     },
     "execution_count": 29,
     "metadata": {},
     "output_type": "execute_result"
    }
   ],
   "source": [
    "# Uncomment this section if you want to delete all items\n",
    "\"\"\"\n",
    "# Delete all items\n",
    "print(\"\\nDeleting all items...\")\n",
    "with table.batch_writer() as batch:\n",
    "    for item in items:\n",
    "        batch.delete_item(Key={'id': item['id']})  # Using 'id' instead of 'feedback_id'\n",
    "\n",
    "print(f\"Deleted {len(items)} items\")\n",
    "\"\"\""
   ]
  },
  {
   "cell_type": "markdown",
   "metadata": {},
   "source": [
    "---\n",
    "---"
   ]
  },
  {
   "cell_type": "code",
   "execution_count": 30,
   "metadata": {},
   "outputs": [
    {
     "name": "stdout",
     "output_type": "stream",
     "text": [
      "Adding initial item to DynamoDB...\n"
     ]
    },
    {
     "data": {
      "text/plain": [
       "{'ResponseMetadata': {'RequestId': 'BJR5J0ARAGR0E3PI86750H73NRVV4KQNSO5AEMVJF66Q9ASUAAJG',\n",
       "  'HTTPStatusCode': 200,\n",
       "  'HTTPHeaders': {'server': 'Server',\n",
       "   'date': 'Tue, 11 Mar 2025 15:09:11 GMT',\n",
       "   'content-type': 'application/x-amz-json-1.0',\n",
       "   'content-length': '2',\n",
       "   'connection': 'keep-alive',\n",
       "   'x-amzn-requestid': 'BJR5J0ARAGR0E3PI86750H73NRVV4KQNSO5AEMVJF66Q9ASUAAJG',\n",
       "   'x-amz-crc32': '2745614147'},\n",
       "  'RetryAttempts': 0}}"
      ]
     },
     "execution_count": 30,
     "metadata": {},
     "output_type": "execute_result"
    }
   ],
   "source": [
    "dynamodb = boto3.resource('dynamodb', region_name=\"us-west-2\")\n",
    "table = dynamodb.Table(\"feedback\")\n",
    "\n",
    "feedback_id = str(uuid.uuid4())\n",
    "\n",
    "initial_item = {\n",
    "    'id': feedback_id,\n",
    "    'version': 1,\n",
    "    'feedback_comment': 'Initial feedback comment',\n",
    "    'submitted_at': datetime.now().isoformat()\n",
    "}\n",
    "\n",
    "print(\"Adding initial item to DynamoDB...\")\n",
    "current_item = table.put_item(Item=initial_item)\n",
    "current_item "
   ]
  },
  {
   "cell_type": "code",
   "execution_count": 31,
   "metadata": {},
   "outputs": [
    {
     "data": {
      "text/plain": [
       "{'version': Decimal('1'),\n",
       " 'id': 'd8f17fe7-326a-469e-83a7-36fb13d463f4',\n",
       " 'submitted_at': '2025-03-11T15:09:09.303116',\n",
       " 'feedback_comment': 'Initial feedback comment'}"
      ]
     },
     "execution_count": 31,
     "metadata": {},
     "output_type": "execute_result"
    }
   ],
   "source": [
    "response = table.get_item(Key={'id': feedback_id})\n",
    "response.get('Item')"
   ]
  },
  {
   "cell_type": "code",
   "execution_count": 32,
   "metadata": {},
   "outputs": [],
   "source": [
    "current_version = current_item.get('version', 0)\n",
    "new_version = current_version + 1"
   ]
  },
  {
   "cell_type": "code",
   "execution_count": 33,
   "metadata": {},
   "outputs": [
    {
     "data": {
      "text/plain": [
       "{'ResponseMetadata': {'RequestId': 'PBQBAEB48L6TM583AONTUF0PEVVV4KQNSO5AEMVJF66Q9ASUAAJG',\n",
       "  'HTTPStatusCode': 200,\n",
       "  'HTTPHeaders': {'server': 'Server',\n",
       "   'date': 'Tue, 11 Mar 2025 15:09:11 GMT',\n",
       "   'content-type': 'application/x-amz-json-1.0',\n",
       "   'content-length': '2',\n",
       "   'connection': 'keep-alive',\n",
       "   'x-amzn-requestid': 'PBQBAEB48L6TM583AONTUF0PEVVV4KQNSO5AEMVJF66Q9ASUAAJG',\n",
       "   'x-amz-crc32': '2745614147'},\n",
       "  'RetryAttempts': 0}}"
      ]
     },
     "execution_count": 33,
     "metadata": {},
     "output_type": "execute_result"
    }
   ],
   "source": [
    "updated_item = {\n",
    "    'id': feedback_id,\n",
    "    'version': int(new_version),\n",
    "    'feedback_comment': 'Updated feedback comment',\n",
    "    'submitted_at': current_item.get('submitted_at'),\n",
    "    'updated_at': datetime.now().isoformat()\n",
    "}\n",
    "\n",
    "table.put_item(Item=updated_item)"
   ]
  },
  {
   "cell_type": "code",
   "execution_count": 34,
   "metadata": {},
   "outputs": [],
   "source": [
    "response = table.query(\n",
    "    KeyConditionExpression=boto3.dynamodb.conditions.Key('id').eq(feedback_id)\n",
    ")\n",
    "versions = response.get('Items', [])"
   ]
  },
  {
   "cell_type": "code",
   "execution_count": 35,
   "metadata": {},
   "outputs": [
    {
     "data": {
      "text/plain": [
       "[{'updated_at': '2025-03-11T15:09:10.416266',\n",
       "  'version': Decimal('1'),\n",
       "  'id': 'd8f17fe7-326a-469e-83a7-36fb13d463f4',\n",
       "  'submitted_at': None,\n",
       "  'feedback_comment': 'Updated feedback comment'}]"
      ]
     },
     "execution_count": 35,
     "metadata": {},
     "output_type": "execute_result"
    }
   ],
   "source": [
    "versions"
   ]
  },
  {
   "cell_type": "code",
   "execution_count": null,
   "metadata": {},
   "outputs": [],
   "source": []
  }
 ],
 "metadata": {
  "kernelspec": {
   "display_name": "ds-env311",
   "language": "python",
   "name": "python3"
  },
  "language_info": {
   "codemirror_mode": {
    "name": "ipython",
    "version": 3
   },
   "file_extension": ".py",
   "mimetype": "text/x-python",
   "name": "python",
   "nbconvert_exporter": "python",
   "pygments_lexer": "ipython3",
   "version": "3.11.11"
  }
 },
 "nbformat": 4,
 "nbformat_minor": 2
}
