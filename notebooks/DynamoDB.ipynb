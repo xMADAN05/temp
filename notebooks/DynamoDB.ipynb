{
 "cells": [
  {
   "cell_type": "code",
   "execution_count": 1,
   "metadata": {},
   "outputs": [],
   "source": [
    "import os\n",
    "import json\n",
    "import uuid\n",
    "import asyncio\n",
    "from datetime import datetime\n",
    "import boto3\n",
    "from boto3.dynamodb.conditions import Key, Attr\n",
    "from botocore.exceptions import ClientError\n",
    "from typing import Dict, List, Optional, Any\n",
    "import logging\n"
   ]
  },
  {
   "cell_type": "code",
   "execution_count": 2,
   "metadata": {},
   "outputs": [],
   "source": [
    "# os.environ[\"AWS_REGION\"] = \"eu-west-2\" \n",
    "# os.environ[\"DYNAMODB_TABLE_NAME\"] = \"feedback\""
   ]
  },
  {
   "cell_type": "code",
   "execution_count": 3,
   "metadata": {},
   "outputs": [],
   "source": [
    "region = \"us-west-2\"\n",
    "table_name = \"feedback\"\n",
    "\n",
    "dynamodb = boto3.resource('dynamodb', region_name=region)\n",
    "table = dynamodb.Table(table_name)"
   ]
  },
  {
   "cell_type": "markdown",
   "metadata": {},
   "source": [
    "---"
   ]
  },
  {
   "cell_type": "code",
   "execution_count": 4,
   "metadata": {},
   "outputs": [
    {
     "data": {
      "text/plain": [
       "dynamodb.ServiceResource()"
      ]
     },
     "execution_count": 4,
     "metadata": {},
     "output_type": "execute_result"
    }
   ],
   "source": [
    "dynamodb = boto3.resource('dynamodb',region_name=region)\n",
    "dynamodb"
   ]
  },
  {
   "cell_type": "code",
   "execution_count": 5,
   "metadata": {},
   "outputs": [
    {
     "data": {
      "text/plain": [
       "dynamodb.Table(name='feedback')"
      ]
     },
     "execution_count": 5,
     "metadata": {},
     "output_type": "execute_result"
    }
   ],
   "source": [
    "table = dynamodb.Table(table_name)\n",
    "table"
   ]
  },
  {
   "cell_type": "code",
   "execution_count": 6,
   "metadata": {},
   "outputs": [
    {
     "data": {
      "text/plain": [
       "'ed56dd22-6784-49cd-9c23-d3b3b1fefaa5'"
      ]
     },
     "execution_count": 6,
     "metadata": {},
     "output_type": "execute_result"
    }
   ],
   "source": [
    "feedback_id = str(uuid.uuid4())\n",
    "feedback_id"
   ]
  },
  {
   "cell_type": "code",
   "execution_count": 7,
   "metadata": {},
   "outputs": [
    {
     "data": {
      "text/plain": [
       "{'ResponseMetadata': {'RequestId': 'S58B4NVI6QHO9N6FF2A0QBGQNBVV4KQNSO5AEMVJF66Q9ASUAAJG',\n",
       "  'HTTPStatusCode': 200,\n",
       "  'HTTPHeaders': {'server': 'Server',\n",
       "   'date': 'Mon, 03 Mar 2025 19:07:40 GMT',\n",
       "   'content-type': 'application/x-amz-json-1.0',\n",
       "   'content-length': '2',\n",
       "   'connection': 'keep-alive',\n",
       "   'x-amzn-requestid': 'S58B4NVI6QHO9N6FF2A0QBGQNBVV4KQNSO5AEMVJF66Q9ASUAAJG',\n",
       "   'x-amz-crc32': '2745614147'},\n",
       "  'RetryAttempts': 0}}"
      ]
     },
     "execution_count": 7,
     "metadata": {},
     "output_type": "execute_result"
    }
   ],
   "source": [
    "item = {\n",
    "    'feedback_id':feedback_id,\n",
    "    'text': \"Feedback 01\"\n",
    "}\n",
    "response = table.put_item(Item=item)\n",
    "response"
   ]
  },
  {
   "cell_type": "code",
   "execution_count": 8,
   "metadata": {},
   "outputs": [
    {
     "data": {
      "text/plain": [
       "{'Item': {'feedback_id': 'ed56dd22-6784-49cd-9c23-d3b3b1fefaa5',\n",
       "  'text': 'Feedback 01'},\n",
       " 'ResponseMetadata': {'RequestId': 'N7BGH6J8NQPNGB8PEV6STK1T8BVV4KQNSO5AEMVJF66Q9ASUAAJG',\n",
       "  'HTTPStatusCode': 200,\n",
       "  'HTTPHeaders': {'server': 'Server',\n",
       "   'date': 'Mon, 03 Mar 2025 19:07:40 GMT',\n",
       "   'content-type': 'application/x-amz-json-1.0',\n",
       "   'content-length': '96',\n",
       "   'connection': 'keep-alive',\n",
       "   'x-amzn-requestid': 'N7BGH6J8NQPNGB8PEV6STK1T8BVV4KQNSO5AEMVJF66Q9ASUAAJG',\n",
       "   'x-amz-crc32': '1131761939'},\n",
       "  'RetryAttempts': 0}}"
      ]
     },
     "execution_count": 8,
     "metadata": {},
     "output_type": "execute_result"
    }
   ],
   "source": [
    "response = table.get_item(Key={'feedback_id': feedback_id})\n",
    "response"
   ]
  },
  {
   "cell_type": "code",
   "execution_count": 9,
   "metadata": {},
   "outputs": [
    {
     "data": {
      "text/plain": [
       "{'Attributes': {'updated_at': '2025-03-03T19:07:41.603584',\n",
       "  'text': 'Updated Text'},\n",
       " 'ResponseMetadata': {'RequestId': 'V834BF67HLTSUSPD249T24M353VV4KQNSO5AEMVJF66Q9ASUAAJG',\n",
       "  'HTTPStatusCode': 200,\n",
       "  'HTTPHeaders': {'server': 'Server',\n",
       "   'date': 'Mon, 03 Mar 2025 19:07:40 GMT',\n",
       "   'content-type': 'application/x-amz-json-1.0',\n",
       "   'content-length': '92',\n",
       "   'connection': 'keep-alive',\n",
       "   'x-amzn-requestid': 'V834BF67HLTSUSPD249T24M353VV4KQNSO5AEMVJF66Q9ASUAAJG',\n",
       "   'x-amz-crc32': '127592059'},\n",
       "  'RetryAttempts': 0}}"
      ]
     },
     "execution_count": 9,
     "metadata": {},
     "output_type": "execute_result"
    }
   ],
   "source": [
    "timestamp = datetime.now().isoformat()\n",
    "new_text = \"Updated Text\"\n",
    "\n",
    "response = table.update_item(\n",
    "    Key={\"feedback_id\":feedback_id},\n",
    "    UpdateExpression= \"SET #txt = :text, updated_at = :timestamp\",\n",
    "    ExpressionAttributeNames={\n",
    "        '#txt':'text'\n",
    "    },\n",
    "    ExpressionAttributeValues={\n",
    "        ':text': new_text,\n",
    "        ':timestamp': timestamp\n",
    "    },\n",
    "    ReturnValues=\"UPDATED_NEW\"\n",
    ")\n",
    "response"
   ]
  },
  {
   "cell_type": "code",
   "execution_count": 10,
   "metadata": {},
   "outputs": [
    {
     "data": {
      "text/plain": [
       "[{'updated_at': '2025-03-03T19:07:41.603584',\n",
       "  'feedback_id': 'ed56dd22-6784-49cd-9c23-d3b3b1fefaa5',\n",
       "  'text': 'Updated Text'}]"
      ]
     },
     "execution_count": 10,
     "metadata": {},
     "output_type": "execute_result"
    }
   ],
   "source": [
    "Limit = 100\n",
    "\n",
    "response = table.scan(Limit=Limit)\n",
    "response.get('Items','no data')"
   ]
  },
  {
   "cell_type": "markdown",
   "metadata": {},
   "source": [
    "Delete"
   ]
  },
  {
   "cell_type": "code",
   "execution_count": null,
   "metadata": {},
   "outputs": [],
   "source": [
    "response = table.delete_item(\n",
    "    Key={'feedback_id': feedback_id},\n",
    "    ReturnValues=\"ALL_OLD\"\n",
    ")\n",
    "\n",
    "response"
   ]
  },
  {
   "cell_type": "code",
   "execution_count": 15,
   "metadata": {},
   "outputs": [
    {
     "name": "stdout",
     "output_type": "stream",
     "text": [
      "Deleted 100 items\n"
     ]
    }
   ],
   "source": [
    "import boto3\n",
    "\n",
    "dynamodb = boto3.resource('dynamodb', region_name=\"us-west-2\")\n",
    "table = dynamodb.Table(\"feedback\")\n",
    "\n",
    "response = table.scan()\n",
    "items = response.get('Items', [])\n",
    "\n",
    "while 'LastEvaluatedKey' in response:\n",
    "    response = table.scan(ExclusiveStartKey=response['LastEvaluatedKey'])\n",
    "    items.extend(response.get('Items', []))\n",
    "\n",
    "with table.batch_writer() as batch:\n",
    "    for item in items:\n",
    "        batch.delete_item(Key={'feedback_id': item['feedback_id']})\n",
    "\n",
    "print(f\"Deleted {len(items)} items\")"
   ]
  },
  {
   "cell_type": "markdown",
   "metadata": {},
   "source": [
    "---\n",
    "---"
   ]
  },
  {
   "cell_type": "markdown",
   "metadata": {},
   "source": [
    "https://docs.aws.amazon.com/amazondynamodb/latest/developerguide/best-practices.html"
   ]
  },
  {
   "cell_type": "code",
   "execution_count": 16,
   "metadata": {},
   "outputs": [],
   "source": [
    "import boto3, uuid, random, json\n",
    "from datetime import datetime, timedelta\n",
    "\n",
    "dynamodb = boto3.resource('dynamodb', region_name=\"us-west-2\").Table(\"feedback\")\n",
    "\n",
    "for i in range(100):\n",
    "    created_at = (datetime.now() - timedelta(days=random.randint(1, 365))).isoformat()\n",
    "    feedback_type = random.choice([None, \"guardrail_failure\", \"performance_issue\", \"usability\"])\n",
    "    \n",
    "    dynamodb.put_item(Item={\n",
    "        'feedback_id': str(uuid.uuid4()),\n",
    "        'text': json.dumps({\n",
    "            \"RACFID\": f\"USER00{random.randint(1, 5)}\",\n",
    "            \"InferenceID\": f\"inf-{uuid.uuid4().hex[:12]}\",\n",
    "            \"ApplicationID\": random.choice([\"APP1\", \"APP2\", \"APP3\", None]),\n",
    "            \"feedbackRelevance\": random.choice([\"0\", \"1\", None]),\n",
    "            \"feedbackType\": feedback_type,\n",
    "            \"guardrailFailureType\": random.choice([\"profanity\", \"bias\", \"hallucination\", None]) if feedback_type == \"guardrail_failure\" else None,\n",
    "            \"description\": random.choice([\"Model hallucinated data\", \"System was slow\", None]),\n",
    "            \"context\": {\"model_version\": f\"v{random.randint(1,5)}.{random.randint(0,9)}\", \"latency_ms\": random.randint(50, 2000)}\n",
    "        }),\n",
    "        'created_at': created_at\n",
    "    })\n"
   ]
  },
  {
   "cell_type": "code",
   "execution_count": 8,
   "metadata": {},
   "outputs": [
    {
     "name": "stdout",
     "output_type": "stream",
     "text": [
      "Total items fetched: 0\n"
     ]
    }
   ],
   "source": [
    "from boto3.dynamodb.conditions import Attr\n",
    "import boto3\n",
    "\n",
    "table = boto3.resource('dynamodb', region_name=\"us-west-2\").Table(\"feedback\")\n",
    "filter_expression = Attr('RACFID').contains('USER')\n",
    "\n",
    "response, item_list = {}, []\n",
    "while True:\n",
    "    scan_kwargs = {\"FilterExpression\": filter_expression}\n",
    "    if 'LastEvaluatedKey' in response:\n",
    "        scan_kwargs[\"ExclusiveStartKey\"] = response['LastEvaluatedKey']\n",
    "\n",
    "    response = table.scan(**scan_kwargs)\n",
    "    item_list.extend(response.get('Items', []))\n",
    "\n",
    "    if 'LastEvaluatedKey' not in response:\n",
    "        break\n",
    "\n",
    "print(f\"Total items fetched: {len(item_list)}\")\n"
   ]
  },
  {
   "cell_type": "code",
   "execution_count": 13,
   "metadata": {},
   "outputs": [
    {
     "name": "stdout",
     "output_type": "stream",
     "text": [
      "{'Count': 100, 'ScannedCount': 100, 'ResponseMetadata': {'RequestId': 'ERA0RSFA7CVJP8QE8K2N194LUNVV4KQNSO5AEMVJF66Q9ASUAAJG', 'HTTPStatusCode': 200, 'HTTPHeaders': {'server': 'Server', 'date': 'Tue, 04 Mar 2025 07:19:40 GMT', 'content-type': 'application/x-amz-json-1.0', 'content-length': '32', 'connection': 'keep-alive', 'x-amzn-requestid': 'ERA0RSFA7CVJP8QE8K2N194LUNVV4KQNSO5AEMVJF66Q9ASUAAJG', 'x-amz-crc32': '1321842452'}, 'RetryAttempts': 0}} \n",
      " 100\n"
     ]
    }
   ],
   "source": [
    "response, total_count ={}, 0\n",
    "\n",
    "while True:\n",
    "    scan_kwargs = {\"Select\":\"COUNT\"}\n",
    "    if 'LastEvaluatedKey' in response:\n",
    "        scan_kwargs[\"ExclusiveStartKey\"] = response['LastEvaluatedKey']\n",
    "    \n",
    "    response = table.scan(**scan_kwargs)\n",
    "\n",
    "    total_count +=response.get('Count',0)\n",
    "\n",
    "    if 'LastEvaluatedKey' not in response:\n",
    "        break\n",
    "\n",
    "print(response,'\\n',total_count)"
   ]
  },
  {
   "cell_type": "markdown",
   "metadata": {},
   "source": [
    "get all records/ scan() with pagination"
   ]
  },
  {
   "cell_type": "code",
   "execution_count": null,
   "metadata": {},
   "outputs": [
    {
     "name": "stdout",
     "output_type": "stream",
     "text": [
      "100\n",
      "{'Items': [{'feedback_id': 'dd8cae11-2a29-4969-982e-8a196b2751ba', 'text': '{\"RACFID\": \"USER005\", \"InferenceID\": \"inf-b4b4c88001ea\", \"ApplicationID\": \"APP3\", \"feedbackRelevance\": \"1\", \"feedbackType\": null, \"guardrailFailureType\": null, \"description\": \"System was slow\", \"context\": {\"model_version\": \"v2.1\", \"latency_ms\": 1762}}', 'created_at': '2024-11-16T19:31:24.492223'}, {'feedback_id': '9048640b-cef0-48b4-9b25-41c4bb42dc75', 'text': '{\"RACFID\": \"USER001\", \"InferenceID\": \"inf-721153a049b5\", \"ApplicationID\": \"APP3\", \"feedbackRelevance\": \"0\", \"feedbackType\": null, \"guardrailFailureType\": null, \"description\": \"Model hallucinated data\", \"context\": {\"model_version\": \"v1.1\", \"latency_ms\": 1530}}', 'created_at': '2024-08-03T19:31:31.163465'}, {'feedback_id': '7f75ba0e-8825-4a67-998a-4a4904bcaa0e', 'text': '{\"RACFID\": \"USER001\", \"InferenceID\": \"inf-d5b81a1ea670\", \"ApplicationID\": \"APP3\", \"feedbackRelevance\": \"1\", \"feedbackType\": \"guardrail_failure\", \"guardrailFailureType\": \"hallucination\", \"description\": \"Model hallucinated data\", \"context\": {\"model_version\": \"v2.6\", \"latency_ms\": 481}}', 'created_at': '2024-11-11T19:31:24.326347'}, {'feedback_id': '4e6f608e-d4f9-464b-9a2a-253fec64f45b', 'text': '{\"RACFID\": \"USER004\", \"InferenceID\": \"inf-d92c4dd5ca9e\", \"ApplicationID\": \"APP1\", \"feedbackRelevance\": \"1\", \"feedbackType\": \"performance_issue\", \"guardrailFailureType\": null, \"description\": \"System was slow\", \"context\": {\"model_version\": \"v4.7\", \"latency_ms\": 1845}}', 'created_at': '2024-10-05T19:31:24.825358'}, {'feedback_id': 'f57d69d5-b868-45b8-afbc-a79df3890db9', 'text': '{\"RACFID\": \"USER002\", \"InferenceID\": \"inf-fce7fae8087d\", \"ApplicationID\": \"APP3\", \"feedbackRelevance\": null, \"feedbackType\": \"guardrail_failure\", \"guardrailFailureType\": \"bias\", \"description\": \"Model hallucinated data\", \"context\": {\"model_version\": \"v1.2\", \"latency_ms\": 771}}', 'created_at': '2024-08-25T19:31:20.436518'}, {'feedback_id': '4e7005a0-72f2-4b97-8a75-1c82ce8ff829', 'text': '{\"RACFID\": \"USER001\", \"InferenceID\": \"inf-3dca6a7abbc8\", \"ApplicationID\": \"APP2\", \"feedbackRelevance\": \"0\", \"feedbackType\": null, \"guardrailFailureType\": null, \"description\": null, \"context\": {\"model_version\": \"v3.5\", \"latency_ms\": 83}}', 'created_at': '2024-03-21T19:31:16.355361'}, {'feedback_id': 'a8f0207f-acd6-42ff-9587-21069370031b', 'text': '{\"RACFID\": \"USER003\", \"InferenceID\": \"inf-7c2a9e0dd2cb\", \"ApplicationID\": null, \"feedbackRelevance\": \"0\", \"feedbackType\": null, \"guardrailFailureType\": null, \"description\": \"System was slow\", \"context\": {\"model_version\": \"v4.1\", \"latency_ms\": 953}}', 'created_at': '2024-03-16T19:31:16.526774'}, {'feedback_id': 'a1de2027-53de-41ad-996e-34eaf6d607d9', 'text': '{\"RACFID\": \"USER002\", \"InferenceID\": \"inf-f0b466bef7da\", \"ApplicationID\": \"APP2\", \"feedbackRelevance\": \"1\", \"feedbackType\": \"performance_issue\", \"guardrailFailureType\": null, \"description\": \"System was slow\", \"context\": {\"model_version\": \"v2.3\", \"latency_ms\": 1803}}', 'created_at': '2025-01-16T19:31:16.851215'}, {'feedback_id': '48fc52c8-bbe5-4e02-bd93-ca12f799eb5a', 'text': '{\"RACFID\": \"USER001\", \"InferenceID\": \"inf-c74e9a17792a\", \"ApplicationID\": \"APP1\", \"feedbackRelevance\": \"0\", \"feedbackType\": null, \"guardrailFailureType\": null, \"description\": null, \"context\": {\"model_version\": \"v4.2\", \"latency_ms\": 525}}', 'created_at': '2024-11-10T19:31:18.788500'}, {'feedback_id': '70dd63af-c730-4316-8875-63cee3dc98b8', 'text': '{\"RACFID\": \"USER004\", \"InferenceID\": \"inf-faead7fe7435\", \"ApplicationID\": null, \"feedbackRelevance\": \"1\", \"feedbackType\": \"usability\", \"guardrailFailureType\": null, \"description\": null, \"context\": {\"model_version\": \"v1.2\", \"latency_ms\": 1022}}', 'created_at': '2024-07-19T19:31:27.726229'}, {'feedback_id': '20e286cc-d16e-4488-b692-fdfb6fc5cde7', 'text': '{\"RACFID\": \"USER004\", \"InferenceID\": \"inf-a716408cefd3\", \"ApplicationID\": \"APP3\", \"feedbackRelevance\": null, \"feedbackType\": \"performance_issue\", \"guardrailFailureType\": null, \"description\": null, \"context\": {\"model_version\": \"v3.1\", \"latency_ms\": 75}}', 'created_at': '2024-06-15T19:31:18.623591'}, {'feedback_id': 'fa989501-398a-4de9-94a2-d0f736edcbf1', 'text': '{\"RACFID\": \"USER002\", \"InferenceID\": \"inf-569445da5228\", \"ApplicationID\": \"APP3\", \"feedbackRelevance\": \"0\", \"feedbackType\": \"performance_issue\", \"guardrailFailureType\": null, \"description\": null, \"context\": {\"model_version\": \"v3.0\", \"latency_ms\": 712}}', 'created_at': '2025-02-13T19:31:19.601899'}, {'feedback_id': '98ddd39c-986d-4ce2-b963-20d1b78d5e24', 'text': '{\"RACFID\": \"USER004\", \"InferenceID\": \"inf-b973e6f9a066\", \"ApplicationID\": \"APP1\", \"feedbackRelevance\": \"1\", \"feedbackType\": null, \"guardrailFailureType\": null, \"description\": \"System was slow\", \"context\": {\"model_version\": \"v4.4\", \"latency_ms\": 1194}}', 'created_at': '2024-08-15T19:31:28.059480'}, {'feedback_id': 'cfc49c27-e1e2-479c-82ee-0132aedd5d09', 'text': '{\"RACFID\": \"USER003\", \"InferenceID\": \"inf-4d14a8fcc03b\", \"ApplicationID\": \"APP3\", \"feedbackRelevance\": null, \"feedbackType\": null, \"guardrailFailureType\": null, \"description\": \"System was slow\", \"context\": {\"model_version\": \"v2.7\", \"latency_ms\": 694}}', 'created_at': '2024-12-04T19:31:20.596478'}, {'feedback_id': 'a0fc67bb-edd8-40b5-8de5-cfa666ee254d', 'text': '{\"RACFID\": \"USER004\", \"InferenceID\": \"inf-bacbd44d8b9f\", \"ApplicationID\": \"APP3\", \"feedbackRelevance\": \"0\", \"feedbackType\": null, \"guardrailFailureType\": null, \"description\": null, \"context\": {\"model_version\": \"v4.0\", \"latency_ms\": 724}}', 'created_at': '2025-01-16T19:31:20.099955'}, {'feedback_id': 'f336ab4f-7a53-4e3e-9da6-244265ab96e9', 'text': '{\"RACFID\": \"USER004\", \"InferenceID\": \"inf-1543dad48312\", \"ApplicationID\": null, \"feedbackRelevance\": \"1\", \"feedbackType\": \"usability\", \"guardrailFailureType\": null, \"description\": \"Model hallucinated data\", \"context\": {\"model_version\": \"v3.8\", \"latency_ms\": 1957}}', 'created_at': '2025-02-08T19:31:23.836041'}, {'feedback_id': '767ddff3-8b4a-4a66-b5c2-6afecc30444a', 'text': '{\"RACFID\": \"USER004\", \"InferenceID\": \"inf-d134e9dd050d\", \"ApplicationID\": null, \"feedbackRelevance\": \"1\", \"feedbackType\": \"usability\", \"guardrailFailureType\": null, \"description\": null, \"context\": {\"model_version\": \"v2.6\", \"latency_ms\": 97}}', 'created_at': '2024-11-28T19:31:19.118717'}, {'feedback_id': 'dbd92f99-d186-4155-a71a-4bc7ff13de12', 'text': '{\"RACFID\": \"USER001\", \"InferenceID\": \"inf-ce8dceb4d1f8\", \"ApplicationID\": \"APP3\", \"feedbackRelevance\": \"0\", \"feedbackType\": \"guardrail_failure\", \"guardrailFailureType\": \"hallucination\", \"description\": \"Model hallucinated data\", \"context\": {\"model_version\": \"v5.5\", \"latency_ms\": 1131}}', 'created_at': '2025-02-06T19:31:24.986051'}, {'feedback_id': '09c244de-0060-4c01-800d-9736af04dce6', 'text': '{\"RACFID\": \"USER004\", \"InferenceID\": \"inf-724e56d6addd\", \"ApplicationID\": null, \"feedbackRelevance\": \"1\", \"feedbackType\": \"performance_issue\", \"guardrailFailureType\": null, \"description\": \"System was slow\", \"context\": {\"model_version\": \"v1.5\", \"latency_ms\": 1035}}', 'created_at': '2024-08-02T19:31:27.399404'}, {'feedback_id': '3568e5d9-24a8-4a45-88fe-6bb5e196b22f', 'text': '{\"RACFID\": \"USER004\", \"InferenceID\": \"inf-7ec7f0fd259f\", \"ApplicationID\": \"APP2\", \"feedbackRelevance\": \"1\", \"feedbackType\": \"performance_issue\", \"guardrailFailureType\": null, \"description\": null, \"context\": {\"model_version\": \"v2.7\", \"latency_ms\": 1921}}', 'created_at': '2025-01-04T19:31:30.665951'}, {'feedback_id': 'fbf59659-0175-4f53-9eef-ff8916fbf656', 'text': '{\"RACFID\": \"USER002\", \"InferenceID\": \"inf-f157b6e7b552\", \"ApplicationID\": \"APP3\", \"feedbackRelevance\": \"0\", \"feedbackType\": \"performance_issue\", \"guardrailFailureType\": null, \"description\": \"System was slow\", \"context\": {\"model_version\": \"v1.2\", \"latency_ms\": 1395}}', 'created_at': '2024-07-14T19:31:22.370544'}, {'feedback_id': '50d23449-4e35-48fc-869b-14e0e3d53bea', 'text': '{\"RACFID\": \"USER003\", \"InferenceID\": \"inf-fa59f6580e4a\", \"ApplicationID\": \"APP2\", \"feedbackRelevance\": null, \"feedbackType\": \"usability\", \"guardrailFailureType\": null, \"description\": null, \"context\": {\"model_version\": \"v4.0\", \"latency_ms\": 214}}', 'created_at': '2025-01-16T19:31:25.469029'}, {'feedback_id': 'd84ecfc4-f3d8-4967-b0b6-1a6c7479a31f', 'text': '{\"RACFID\": \"USER004\", \"InferenceID\": \"inf-3836af2cf5e6\", \"ApplicationID\": \"APP1\", \"feedbackRelevance\": null, \"feedbackType\": \"usability\", \"guardrailFailureType\": null, \"description\": \"System was slow\", \"context\": {\"model_version\": \"v2.6\", \"latency_ms\": 201}}', 'created_at': '2024-08-30T19:31:22.212529'}, {'feedback_id': 'd9f57191-5571-4d2e-b839-676aacd9fd9d', 'text': '{\"RACFID\": \"USER004\", \"InferenceID\": \"inf-f64790727803\", \"ApplicationID\": \"APP1\", \"feedbackRelevance\": null, \"feedbackType\": \"guardrail_failure\", \"guardrailFailureType\": \"hallucination\", \"description\": \"System was slow\", \"context\": {\"model_version\": \"v3.3\", \"latency_ms\": 1770}}', 'created_at': '2024-12-25T19:31:21.249175'}, {'feedback_id': 'bd3711bc-fbb5-44ae-83a9-f3a7f7212651', 'text': '{\"RACFID\": \"USER004\", \"InferenceID\": \"inf-086e16460eb1\", \"ApplicationID\": null, \"feedbackRelevance\": null, \"feedbackType\": null, \"guardrailFailureType\": null, \"description\": null, \"context\": {\"model_version\": \"v5.8\", \"latency_ms\": 1633}}', 'created_at': '2025-01-05T19:31:23.520370'}, {'feedback_id': 'c9f53cfd-2bb5-4dd7-8478-f3c6dd7b9606', 'text': '{\"RACFID\": \"USER002\", \"InferenceID\": \"inf-b583807c6949\", \"ApplicationID\": \"APP3\", \"feedbackRelevance\": \"0\", \"feedbackType\": null, \"guardrailFailureType\": null, \"description\": \"System was slow\", \"context\": {\"model_version\": \"v4.1\", \"latency_ms\": 1633}}', 'created_at': '2024-11-30T19:31:16.684794'}, {'feedback_id': 'aaf87668-6cbe-4eb4-9717-f82e9712372d', 'text': '{\"RACFID\": \"USER001\", \"InferenceID\": \"inf-3c7ff7a9e3d7\", \"ApplicationID\": null, \"feedbackRelevance\": \"0\", \"feedbackType\": \"performance_issue\", \"guardrailFailureType\": null, \"description\": \"System was slow\", \"context\": {\"model_version\": \"v2.6\", \"latency_ms\": 474}}', 'created_at': '2024-07-12T19:31:22.700360'}, {'feedback_id': '35ba1b3f-2da7-44c2-a901-38f8345d3b83', 'text': '{\"RACFID\": \"USER005\", \"InferenceID\": \"inf-bc9293f86b78\", \"ApplicationID\": \"APP1\", \"feedbackRelevance\": null, \"feedbackType\": \"performance_issue\", \"guardrailFailureType\": null, \"description\": \"Model hallucinated data\", \"context\": {\"model_version\": \"v3.3\", \"latency_ms\": 1503}}', 'created_at': '2024-06-11T19:31:27.239051'}, {'feedback_id': '862cb1ed-0104-40f1-95eb-87196874b4a3', 'text': '{\"RACFID\": \"USER004\", \"InferenceID\": \"inf-ccdc8d5c4ca4\", \"ApplicationID\": \"APP1\", \"feedbackRelevance\": \"1\", \"feedbackType\": \"performance_issue\", \"guardrailFailureType\": null, \"description\": \"System was slow\", \"context\": {\"model_version\": \"v2.1\", \"latency_ms\": 438}}', 'created_at': '2024-07-25T19:31:16.189961'}, {'feedback_id': 'a0216c8f-0c91-44a3-aa33-726930778f74', 'text': '{\"RACFID\": \"USER003\", \"InferenceID\": \"inf-61b9bfbe0abc\", \"ApplicationID\": \"APP3\", \"feedbackRelevance\": \"1\", \"feedbackType\": \"performance_issue\", \"guardrailFailureType\": null, \"description\": \"Model hallucinated data\", \"context\": {\"model_version\": \"v1.8\", \"latency_ms\": 1926}}', 'created_at': '2024-06-07T19:31:26.755027'}, {'feedback_id': '6029595d-b0cd-49ca-a06b-0f171537518b', 'text': '{\"RACFID\": \"USER002\", \"InferenceID\": \"inf-63f0aada6297\", \"ApplicationID\": \"APP3\", \"feedbackRelevance\": null, \"feedbackType\": null, \"guardrailFailureType\": null, \"description\": \"Model hallucinated data\", \"context\": {\"model_version\": \"v1.1\", \"latency_ms\": 1017}}', 'created_at': '2025-02-16T19:31:19.284519'}, {'feedback_id': '036b4ab9-e18b-45d9-8325-820d12bc3668', 'text': '{\"RACFID\": \"USER004\", \"InferenceID\": \"inf-924c9bf03cb3\", \"ApplicationID\": \"APP1\", \"feedbackRelevance\": \"0\", \"feedbackType\": \"guardrail_failure\", \"guardrailFailureType\": null, \"description\": \"Model hallucinated data\", \"context\": {\"model_version\": \"v3.7\", \"latency_ms\": 1340}}', 'created_at': '2024-11-03T19:31:17.656923'}, {'feedback_id': 'fa65c690-39fd-4109-a78a-9aeafa33c3f0', 'text': '{\"RACFID\": \"USER004\", \"InferenceID\": \"inf-3ddc69670454\", \"ApplicationID\": \"APP2\", \"feedbackRelevance\": null, \"feedbackType\": null, \"guardrailFailureType\": null, \"description\": \"Model hallucinated data\", \"context\": {\"model_version\": \"v3.0\", \"latency_ms\": 466}}', 'created_at': '2024-04-11T19:31:23.361574'}, {'feedback_id': 'c8afcb51-f81b-4a6a-a374-c8d502f783a1', 'text': '{\"RACFID\": \"USER001\", \"InferenceID\": \"inf-b04dfd7ad7d5\", \"ApplicationID\": null, \"feedbackRelevance\": null, \"feedbackType\": \"usability\", \"guardrailFailureType\": null, \"description\": \"Model hallucinated data\", \"context\": {\"model_version\": \"v2.7\", \"latency_ms\": 1971}}', 'created_at': '2024-07-28T19:31:28.551125'}, {'feedback_id': '8f639420-116c-4f32-83ce-b2d5ea9feb02', 'text': '{\"RACFID\": \"USER005\", \"InferenceID\": \"inf-c00ade27c22b\", \"ApplicationID\": \"APP1\", \"feedbackRelevance\": \"1\", \"feedbackType\": null, \"guardrailFailureType\": null, \"description\": \"Model hallucinated data\", \"context\": {\"model_version\": \"v1.0\", \"latency_ms\": 715}}', 'created_at': '2024-03-04T19:31:22.869240'}, {'feedback_id': 'bcd384bc-e58f-47ce-8362-8b6495dbd528', 'text': '{\"RACFID\": \"USER002\", \"InferenceID\": \"inf-8fdc569bcdc6\", \"ApplicationID\": \"APP1\", \"feedbackRelevance\": \"1\", \"feedbackType\": \"performance_issue\", \"guardrailFailureType\": null, \"description\": \"Model hallucinated data\", \"context\": {\"model_version\": \"v2.9\", \"latency_ms\": 443}}', 'created_at': '2024-09-04T19:31:22.053523'}, {'feedback_id': '019c6ece-6d46-4d2d-96d3-d66292900f7c', 'text': '{\"RACFID\": \"USER001\", \"InferenceID\": \"inf-9d23aa3117b5\", \"ApplicationID\": \"APP1\", \"feedbackRelevance\": \"1\", \"feedbackType\": \"guardrail_failure\", \"guardrailFailureType\": \"profanity\", \"description\": \"Model hallucinated data\", \"context\": {\"model_version\": \"v2.6\", \"latency_ms\": 159}}', 'created_at': '2024-07-28T19:31:25.952593'}, {'feedback_id': '11ca3572-715c-4aee-a35c-adac7c238855', 'text': '{\"RACFID\": \"USER005\", \"InferenceID\": \"inf-459ac7611d92\", \"ApplicationID\": \"APP3\", \"feedbackRelevance\": \"1\", \"feedbackType\": \"usability\", \"guardrailFailureType\": null, \"description\": null, \"context\": {\"model_version\": \"v5.5\", \"latency_ms\": 130}}', 'created_at': '2024-12-06T19:31:17.497007'}, {'feedback_id': 'b1a59651-18b8-41cc-8b84-f756b64f48b2', 'text': '{\"RACFID\": \"USER003\", \"InferenceID\": \"inf-56346231f5a5\", \"ApplicationID\": \"APP1\", \"feedbackRelevance\": \"0\", \"feedbackType\": \"guardrail_failure\", \"guardrailFailureType\": null, \"description\": null, \"context\": {\"model_version\": \"v4.3\", \"latency_ms\": 987}}', 'created_at': '2024-03-27T19:31:31.488394'}, {'feedback_id': 'da4ecda9-9c2b-4702-be9b-eedc51fbf3c4', 'text': '{\"RACFID\": \"USER003\", \"InferenceID\": \"inf-b1cd68348d9a\", \"ApplicationID\": \"APP1\", \"feedbackRelevance\": \"1\", \"feedbackType\": \"guardrail_failure\", \"guardrailFailureType\": null, \"description\": \"System was slow\", \"context\": {\"model_version\": \"v1.3\", \"latency_ms\": 1148}}', 'created_at': '2024-06-11T19:31:21.738872'}, {'feedback_id': '6be2fe17-532a-4365-8393-f1bcaa5fb41a', 'text': '{\"RACFID\": \"USER005\", \"InferenceID\": \"inf-2553aa1d7100\", \"ApplicationID\": \"APP1\", \"feedbackRelevance\": \"0\", \"feedbackType\": null, \"guardrailFailureType\": null, \"description\": \"System was slow\", \"context\": {\"model_version\": \"v3.1\", \"latency_ms\": 1532}}', 'created_at': '2024-05-05T19:31:22.535689'}, {'feedback_id': '239b0cf3-88b9-436e-8f35-496b6bacf8e3', 'text': '{\"RACFID\": \"USER003\", \"InferenceID\": \"inf-7cdb1fc17999\", \"ApplicationID\": null, \"feedbackRelevance\": null, \"feedbackType\": \"guardrail_failure\", \"guardrailFailureType\": \"bias\", \"description\": null, \"context\": {\"model_version\": \"v1.6\", \"latency_ms\": 905}}', 'created_at': '2024-07-02T19:31:30.175043'}, {'feedback_id': 'c87f6a39-ecad-4c21-a983-ec96d2bd83be', 'text': '{\"RACFID\": \"USER004\", \"InferenceID\": \"inf-5d426d801b43\", \"ApplicationID\": null, \"feedbackRelevance\": null, \"feedbackType\": \"guardrail_failure\", \"guardrailFailureType\": null, \"description\": null, \"context\": {\"model_version\": \"v2.7\", \"latency_ms\": 1546}}', 'created_at': '2024-05-27T19:31:29.522894'}, {'feedback_id': '15dbc7ac-f7ef-49b3-8620-fb58d785892f', 'text': '{\"RACFID\": \"USER003\", \"InferenceID\": \"inf-7df5d9084c69\", \"ApplicationID\": \"APP1\", \"feedbackRelevance\": null, \"feedbackType\": \"performance_issue\", \"guardrailFailureType\": null, \"description\": \"System was slow\", \"context\": {\"model_version\": \"v1.4\", \"latency_ms\": 461}}', 'created_at': '2024-03-25T19:31:21.578829'}, {'feedback_id': '4eb4e96c-f4d3-4b85-9345-98ad81432ad1', 'text': '{\"RACFID\": \"USER005\", \"InferenceID\": \"inf-7d24e5a0b6fc\", \"ApplicationID\": \"APP2\", \"feedbackRelevance\": null, \"feedbackType\": \"usability\", \"guardrailFailureType\": null, \"description\": null, \"context\": {\"model_version\": \"v4.4\", \"latency_ms\": 1460}}', 'created_at': '2024-12-15T19:31:28.709362'}, {'feedback_id': 'ea9a2d9d-ec0a-4e60-9e02-2b8b9597ca09', 'text': '{\"RACFID\": \"USER002\", \"InferenceID\": \"inf-3cb2c53d1cc4\", \"ApplicationID\": \"APP1\", \"feedbackRelevance\": \"1\", \"feedbackType\": \"performance_issue\", \"guardrailFailureType\": null, \"description\": null, \"context\": {\"model_version\": \"v3.2\", \"latency_ms\": 536}}', 'created_at': '2024-07-11T19:31:26.424109'}, {'feedback_id': '5ccc4dac-b973-4503-97f5-d4577734bafc', 'text': '{\"RACFID\": \"USER003\", \"InferenceID\": \"inf-a81a5260f92e\", \"ApplicationID\": \"APP2\", \"feedbackRelevance\": \"0\", \"feedbackType\": null, \"guardrailFailureType\": null, \"description\": \"Model hallucinated data\", \"context\": {\"model_version\": \"v4.3\", \"latency_ms\": 1307}}', 'created_at': '2024-06-06T19:31:20.762656'}, {'feedback_id': '74b46659-1e43-4ea4-bd3b-20bd68ce7378', 'text': '{\"RACFID\": \"USER005\", \"InferenceID\": \"inf-a59950b0b91d\", \"ApplicationID\": \"APP2\", \"feedbackRelevance\": \"0\", \"feedbackType\": \"performance_issue\", \"guardrailFailureType\": null, \"description\": \"System was slow\", \"context\": {\"model_version\": \"v5.1\", \"latency_ms\": 1055}}', 'created_at': '2025-02-26T19:31:31.646523'}, {'feedback_id': '31ab8630-8951-43c6-97fc-e387e293042d', 'text': '{\"RACFID\": \"USER005\", \"InferenceID\": \"inf-bd65bb5b28b8\", \"ApplicationID\": \"APP1\", \"feedbackRelevance\": \"1\", \"feedbackType\": \"guardrail_failure\", \"guardrailFailureType\": null, \"description\": \"System was slow\", \"context\": {\"model_version\": \"v5.3\", \"latency_ms\": 1023}}', 'created_at': '2024-06-30T19:31:24.166072'}, {'feedback_id': '83c032ed-e459-4b6a-a441-cdf1ff02f932', 'text': '{\"RACFID\": \"USER005\", \"InferenceID\": \"inf-d55c855aa1f4\", \"ApplicationID\": \"APP2\", \"feedbackRelevance\": \"1\", \"feedbackType\": \"performance_issue\", \"guardrailFailureType\": null, \"description\": null, \"context\": {\"model_version\": \"v4.2\", \"latency_ms\": 1472}}', 'created_at': '2024-12-17T19:31:31.810040'}, {'feedback_id': 'e11d58bd-a2d2-4734-b014-f383fde83652', 'text': '{\"RACFID\": \"USER005\", \"InferenceID\": \"inf-8d916a7dd412\", \"ApplicationID\": null, \"feedbackRelevance\": \"1\", \"feedbackType\": \"guardrail_failure\", \"guardrailFailureType\": \"bias\", \"description\": \"System was slow\", \"context\": {\"model_version\": \"v5.6\", \"latency_ms\": 1219}}', 'created_at': '2024-11-26T19:31:19.438141'}, {'feedback_id': 'ad501bc2-aca6-4b01-9a8f-3089f931f6bf', 'text': '{\"RACFID\": \"USER004\", \"InferenceID\": \"inf-a76f207485e9\", \"ApplicationID\": \"APP2\", \"feedbackRelevance\": null, \"feedbackType\": \"guardrail_failure\", \"guardrailFailureType\": \"hallucination\", \"description\": null, \"context\": {\"model_version\": \"v1.7\", \"latency_ms\": 1220}}', 'created_at': '2024-09-05T19:31:27.894403'}, {'feedback_id': '3e9d3952-b41f-4ae6-ba76-3708d634f3a3', 'text': '{\"RACFID\": \"USER001\", \"InferenceID\": \"inf-1039fdb55755\", \"ApplicationID\": \"APP3\", \"feedbackRelevance\": null, \"feedbackType\": \"guardrail_failure\", \"guardrailFailureType\": \"bias\", \"description\": null, \"context\": {\"model_version\": \"v3.5\", \"latency_ms\": 1413}}', 'created_at': '2024-07-29T19:31:28.216827'}, {'feedback_id': '1d26bd44-92d0-4463-af22-e9615c0b3f6c', 'text': '{\"RACFID\": \"USER001\", \"InferenceID\": \"inf-982ef9948fb0\", \"ApplicationID\": \"APP1\", \"feedbackRelevance\": \"1\", \"feedbackType\": \"guardrail_failure\", \"guardrailFailureType\": \"bias\", \"description\": \"Model hallucinated data\", \"context\": {\"model_version\": \"v2.2\", \"latency_ms\": 1583}}', 'created_at': '2024-05-11T19:31:30.007413'}, {'feedback_id': '5c9662a4-22ba-4927-ac5e-abde1d8ec491', 'text': '{\"RACFID\": \"USER001\", \"InferenceID\": \"inf-180eb45d53c8\", \"ApplicationID\": \"APP3\", \"feedbackRelevance\": \"0\", \"feedbackType\": \"guardrail_failure\", \"guardrailFailureType\": \"profanity\", \"description\": \"Model hallucinated data\", \"context\": {\"model_version\": \"v2.4\", \"latency_ms\": 1210}}', 'created_at': '2024-05-06T19:31:29.844576'}, {'feedback_id': '4611e64d-1138-446f-8600-58c7258f4dd5', 'text': '{\"RACFID\": \"USER001\", \"InferenceID\": \"inf-fb47210f0e30\", \"ApplicationID\": \"APP2\", \"feedbackRelevance\": null, \"feedbackType\": \"performance_issue\", \"guardrailFailureType\": null, \"description\": null, \"context\": {\"model_version\": \"v5.5\", \"latency_ms\": 849}}', 'created_at': '2024-08-25T19:31:21.897416'}, {'feedback_id': 'aa1faa80-fc5a-4db3-a21e-599d998df409', 'text': '{\"RACFID\": \"USER002\", \"InferenceID\": \"inf-b2f726e54e02\", \"ApplicationID\": \"APP2\", \"feedbackRelevance\": \"1\", \"feedbackType\": \"guardrail_failure\", \"guardrailFailureType\": \"hallucination\", \"description\": null, \"context\": {\"model_version\": \"v3.7\", \"latency_ms\": 808}}', 'created_at': '2024-07-01T19:31:27.566392'}, {'feedback_id': 'c2459e65-b999-44c0-8348-f8642f551462', 'text': '{\"RACFID\": \"USER003\", \"InferenceID\": \"inf-9c9c3bf07aa7\", \"ApplicationID\": \"APP1\", \"feedbackRelevance\": null, \"feedbackType\": \"usability\", \"guardrailFailureType\": null, \"description\": \"System was slow\", \"context\": {\"model_version\": \"v3.9\", \"latency_ms\": 1920}}', 'created_at': '2024-08-04T19:31:18.465025'}, {'feedback_id': '895b6ecf-681d-4582-8f85-40fa946fa8b6', 'text': '{\"RACFID\": \"USER001\", \"InferenceID\": \"inf-b4819226ed60\", \"ApplicationID\": null, \"feedbackRelevance\": null, \"feedbackType\": \"performance_issue\", \"guardrailFailureType\": null, \"description\": null, \"context\": {\"model_version\": \"v4.4\", \"latency_ms\": 1741}}', 'created_at': '2024-10-05T19:31:20.275283'}, {'feedback_id': 'e237fa44-1213-4adf-ba24-b9cb059647b2', 'text': '{\"RACFID\": \"USER005\", \"InferenceID\": \"inf-b9fe51dac4cd\", \"ApplicationID\": \"APP3\", \"feedbackRelevance\": \"0\", \"feedbackType\": \"performance_issue\", \"guardrailFailureType\": null, \"description\": \"Model hallucinated data\", \"context\": {\"model_version\": \"v4.4\", \"latency_ms\": 1532}}', 'created_at': '2025-02-18T19:31:26.584010'}, {'feedback_id': '1846cc63-5874-4855-a4dc-b2bc5b8e95d0', 'text': '{\"RACFID\": \"USER003\", \"InferenceID\": \"inf-18b93787dcd6\", \"ApplicationID\": \"APP1\", \"feedbackRelevance\": \"0\", \"feedbackType\": null, \"guardrailFailureType\": null, \"description\": \"Model hallucinated data\", \"context\": {\"model_version\": \"v3.0\", \"latency_ms\": 1301}}', 'created_at': '2024-10-13T19:31:24.659333'}, {'feedback_id': 'ffdba65a-6206-407e-81cf-b0e4dc787751', 'text': '{\"RACFID\": \"USER002\", \"InferenceID\": \"inf-f2a41cbb2a62\", \"ApplicationID\": \"APP3\", \"feedbackRelevance\": \"1\", \"feedbackType\": \"guardrail_failure\", \"guardrailFailureType\": \"profanity\", \"description\": \"Model hallucinated data\", \"context\": {\"model_version\": \"v2.6\", \"latency_ms\": 93}}', 'created_at': '2024-04-04T19:31:29.683888'}, {'feedback_id': '718dd54c-fcb2-422b-a3b3-17b92e371c40', 'text': '{\"RACFID\": \"USER001\", \"InferenceID\": \"inf-f045fae67026\", \"ApplicationID\": \"APP1\", \"feedbackRelevance\": \"1\", \"feedbackType\": \"performance_issue\", \"guardrailFailureType\": null, \"description\": \"System was slow\", \"context\": {\"model_version\": \"v4.7\", \"latency_ms\": 1690}}', 'created_at': '2024-12-11T19:31:28.384264'}, {'feedback_id': 'd12d1e51-0376-4dd6-bcc8-fb5c673359da', 'text': '{\"RACFID\": \"USER005\", \"InferenceID\": \"inf-951340a4ccd7\", \"ApplicationID\": \"APP3\", \"feedbackRelevance\": null, \"feedbackType\": null, \"guardrailFailureType\": null, \"description\": \"Model hallucinated data\", \"context\": {\"model_version\": \"v3.5\", \"latency_ms\": 1942}}', 'created_at': '2024-11-24T19:31:18.955200'}, {'feedback_id': '08a50856-5b95-4d84-a80c-c0757638e860', 'text': '{\"RACFID\": \"USER003\", \"InferenceID\": \"inf-790444485387\", \"ApplicationID\": \"APP3\", \"feedbackRelevance\": \"0\", \"feedbackType\": \"performance_issue\", \"guardrailFailureType\": null, \"description\": \"Model hallucinated data\", \"context\": {\"model_version\": \"v1.7\", \"latency_ms\": 296}}', 'created_at': '2024-04-26T19:31:23.034771'}, {'feedback_id': '87cc7c60-25ad-490a-9a86-3b6bd13ee05d', 'text': '{\"RACFID\": \"USER005\", \"InferenceID\": \"inf-dfb0bda365fc\", \"ApplicationID\": null, \"feedbackRelevance\": \"0\", \"feedbackType\": \"usability\", \"guardrailFailureType\": null, \"description\": null, \"context\": {\"model_version\": \"v4.9\", \"latency_ms\": 1188}}', 'created_at': '2024-11-23T19:31:26.267337'}, {'feedback_id': 'e0b6dc8e-b192-4aba-a204-4bd5057978c4', 'text': '{\"RACFID\": \"USER002\", \"InferenceID\": \"inf-b62ff718e44b\", \"ApplicationID\": null, \"feedbackRelevance\": \"1\", \"feedbackType\": null, \"guardrailFailureType\": null, \"description\": null, \"context\": {\"model_version\": \"v2.2\", \"latency_ms\": 1494}}', 'created_at': '2024-11-12T19:31:23.670312'}, {'feedback_id': '63dce98a-e818-432c-b693-2e12952cfedb', 'text': '{\"RACFID\": \"USER002\", \"InferenceID\": \"inf-73aec688b51d\", \"ApplicationID\": \"APP3\", \"feedbackRelevance\": \"1\", \"feedbackType\": \"usability\", \"guardrailFailureType\": null, \"description\": \"System was slow\", \"context\": {\"model_version\": \"v2.3\", \"latency_ms\": 1310}}', 'created_at': '2024-11-10T19:31:25.145829'}, {'feedback_id': '122bed42-8fdd-4791-aed3-7c5ef465eb8c', 'text': '{\"RACFID\": \"USER004\", \"InferenceID\": \"inf-77ccd5d7bc6a\", \"ApplicationID\": null, \"feedbackRelevance\": \"0\", \"feedbackType\": \"performance_issue\", \"guardrailFailureType\": null, \"description\": \"System was slow\", \"context\": {\"model_version\": \"v4.0\", \"latency_ms\": 188}}', 'created_at': '2024-03-29T19:31:26.110386'}, {'feedback_id': '1b90af04-aa63-4b32-9ea2-d3d7674a0f76', 'text': '{\"RACFID\": \"USER004\", \"InferenceID\": \"inf-2357547cef25\", \"ApplicationID\": \"APP1\", \"feedbackRelevance\": \"0\", \"feedbackType\": \"guardrail_failure\", \"guardrailFailureType\": \"profanity\", \"description\": \"System was slow\", \"context\": {\"model_version\": \"v5.5\", \"latency_ms\": 1204}}', 'created_at': '2025-01-20T19:31:27.079600'}, {'feedback_id': 'f45ca6de-0b89-404e-80a5-264d05358f2f', 'text': '{\"RACFID\": \"USER002\", \"InferenceID\": \"inf-ae7b623131d3\", \"ApplicationID\": \"APP2\", \"feedbackRelevance\": \"0\", \"feedbackType\": \"usability\", \"guardrailFailureType\": null, \"description\": null, \"context\": {\"model_version\": \"v3.3\", \"latency_ms\": 246}}', 'created_at': '2024-12-14T19:31:29.357915'}, {'feedback_id': '38597350-b8ed-4c34-aaa5-79efe62ecab0', 'text': '{\"RACFID\": \"USER002\", \"InferenceID\": \"inf-9a3ab66e775c\", \"ApplicationID\": null, \"feedbackRelevance\": null, \"feedbackType\": \"guardrail_failure\", \"guardrailFailureType\": \"hallucination\", \"description\": null, \"context\": {\"model_version\": \"v2.7\", \"latency_ms\": 1147}}', 'created_at': '2024-05-21T19:31:29.034134'}, {'feedback_id': '132d3247-5005-48af-bcb1-33214b36cb51', 'text': '{\"RACFID\": \"USER003\", \"InferenceID\": \"inf-8d26ca47a5c3\", \"ApplicationID\": \"APP3\", \"feedbackRelevance\": null, \"feedbackType\": \"performance_issue\", \"guardrailFailureType\": null, \"description\": \"System was slow\", \"context\": {\"model_version\": \"v4.1\", \"latency_ms\": 1400}}', 'created_at': '2024-11-04T19:31:24.003591'}, {'feedback_id': 'f7c41366-2334-4ec7-97b0-f1ae6f50e349', 'text': '{\"RACFID\": \"USER003\", \"InferenceID\": \"inf-6a3c0235a6d2\", \"ApplicationID\": \"APP1\", \"feedbackRelevance\": \"0\", \"feedbackType\": \"usability\", \"guardrailFailureType\": null, \"description\": \"Model hallucinated data\", \"context\": {\"model_version\": \"v3.1\", \"latency_ms\": 749}}', 'created_at': '2024-11-20T19:31:19.941745'}, {'feedback_id': '9e9bc6f1-94f9-4de2-af34-7e210d3fff4b', 'text': '{\"RACFID\": \"USER005\", \"InferenceID\": \"inf-0815f460aadc\", \"ApplicationID\": \"APP3\", \"feedbackRelevance\": \"1\", \"feedbackType\": \"guardrail_failure\", \"guardrailFailureType\": \"hallucination\", \"description\": \"Model hallucinated data\", \"context\": {\"model_version\": \"v1.4\", \"latency_ms\": 985}}', 'created_at': '2024-06-19T19:31:18.138369'}, {'feedback_id': '2185b45c-33e4-4664-a1d4-d8ee13ed19bd', 'text': '{\"RACFID\": \"USER001\", \"InferenceID\": \"inf-859fdc2fe7ba\", \"ApplicationID\": \"APP3\", \"feedbackRelevance\": \"0\", \"feedbackType\": \"performance_issue\", \"guardrailFailureType\": null, \"description\": \"System was slow\", \"context\": {\"model_version\": \"v3.4\", \"latency_ms\": 574}}', 'created_at': '2024-04-22T19:31:31.322576'}, {'feedback_id': '16a960ad-72d7-46b0-ab15-de082335dbec', 'text': '{\"RACFID\": \"USER003\", \"InferenceID\": \"inf-cce5606b5fc4\", \"ApplicationID\": null, \"feedbackRelevance\": null, \"feedbackType\": \"performance_issue\", \"guardrailFailureType\": null, \"description\": null, \"context\": {\"model_version\": \"v1.4\", \"latency_ms\": 1917}}', 'created_at': '2024-08-30T19:31:25.793379'}, {'feedback_id': 'f5ee02ec-3760-4ca0-8e23-a17d2278cecd', 'text': '{\"RACFID\": \"USER004\", \"InferenceID\": \"inf-efe7a838c5c8\", \"ApplicationID\": null, \"feedbackRelevance\": \"1\", \"feedbackType\": \"usability\", \"guardrailFailureType\": null, \"description\": \"Model hallucinated data\", \"context\": {\"model_version\": \"v1.9\", \"latency_ms\": 611}}', 'created_at': '2024-11-22T19:31:21.418663'}, {'feedback_id': '276cf153-6163-4b27-82dc-cf5375018535', 'text': '{\"RACFID\": \"USER003\", \"InferenceID\": \"inf-d82027c4824c\", \"ApplicationID\": \"APP3\", \"feedbackRelevance\": null, \"feedbackType\": null, \"guardrailFailureType\": null, \"description\": \"Model hallucinated data\", \"context\": {\"model_version\": \"v5.5\", \"latency_ms\": 201}}', 'created_at': '2024-11-30T19:31:26.913227'}, {'feedback_id': '0dde9ed9-c801-440b-b18b-4bbac1cc80a8', 'text': '{\"RACFID\": \"USER004\", \"InferenceID\": \"inf-3c72b813459a\", \"ApplicationID\": \"APP3\", \"feedbackRelevance\": null, \"feedbackType\": \"usability\", \"guardrailFailureType\": null, \"description\": \"System was slow\", \"context\": {\"model_version\": \"v3.6\", \"latency_ms\": 267}}', 'created_at': '2024-07-25T19:31:15.469289'}, {'feedback_id': '758a7a5d-7247-443b-bf33-91f187a78d07', 'text': '{\"RACFID\": \"USER004\", \"InferenceID\": \"inf-ac48fc5f76d3\", \"ApplicationID\": \"APP1\", \"feedbackRelevance\": \"0\", \"feedbackType\": \"usability\", \"guardrailFailureType\": null, \"description\": \"Model hallucinated data\", \"context\": {\"model_version\": \"v1.7\", \"latency_ms\": 770}}', 'created_at': '2024-09-05T19:31:30.832249'}, {'feedback_id': 'b390c2df-1058-4617-aace-6e0ad366240e', 'text': '{\"RACFID\": \"USER003\", \"InferenceID\": \"inf-c24321885ba2\", \"ApplicationID\": null, \"feedbackRelevance\": \"0\", \"feedbackType\": null, \"guardrailFailureType\": null, \"description\": \"Model hallucinated data\", \"context\": {\"model_version\": \"v2.3\", \"latency_ms\": 1456}}', 'created_at': '2024-03-03T19:31:31.976061'}, {'feedback_id': '161078a6-0188-448a-a357-6082263dc141', 'text': '{\"RACFID\": \"USER002\", \"InferenceID\": \"inf-db235427b38a\", \"ApplicationID\": \"APP1\", \"feedbackRelevance\": null, \"feedbackType\": null, \"guardrailFailureType\": null, \"description\": \"Model hallucinated data\", \"context\": {\"model_version\": \"v3.3\", \"latency_ms\": 88}}', 'created_at': '2024-06-28T19:31:17.816553'}, {'feedback_id': '66fa542d-8419-47b3-9346-7eaca34aad22', 'text': '{\"RACFID\": \"USER004\", \"InferenceID\": \"inf-47c3e6ffdc48\", \"ApplicationID\": \"APP1\", \"feedbackRelevance\": \"0\", \"feedbackType\": \"guardrail_failure\", \"guardrailFailureType\": \"profanity\", \"description\": \"System was slow\", \"context\": {\"model_version\": \"v3.2\", \"latency_ms\": 1877}}', 'created_at': '2024-03-13T19:31:28.875534'}, {'feedback_id': '27fc841e-d141-406f-8992-6fbdf7ace087', 'text': '{\"RACFID\": \"USER005\", \"InferenceID\": \"inf-ad41d8f3107d\", \"ApplicationID\": \"APP1\", \"feedbackRelevance\": \"0\", \"feedbackType\": null, \"guardrailFailureType\": null, \"description\": null, \"context\": {\"model_version\": \"v2.0\", \"latency_ms\": 327}}', 'created_at': '2024-09-21T19:31:29.201201'}, {'feedback_id': '5e9d0ee2-02bf-4cee-9854-b1261a3981f8', 'text': '{\"RACFID\": \"USER005\", \"InferenceID\": \"inf-794ee5fb29a8\", \"ApplicationID\": \"APP3\", \"feedbackRelevance\": \"1\", \"feedbackType\": null, \"guardrailFailureType\": null, \"description\": \"Model hallucinated data\", \"context\": {\"model_version\": \"v2.9\", \"latency_ms\": 144}}', 'created_at': '2024-05-15T19:31:20.926214'}, {'feedback_id': '6ad29a8c-d348-4f7b-996d-d48c8c09a7b1', 'text': '{\"RACFID\": \"USER003\", \"InferenceID\": \"inf-298e70071097\", \"ApplicationID\": \"APP1\", \"feedbackRelevance\": \"1\", \"feedbackType\": null, \"guardrailFailureType\": null, \"description\": null, \"context\": {\"model_version\": \"v1.3\", \"latency_ms\": 1788}}', 'created_at': '2024-03-30T19:31:30.506700'}, {'feedback_id': '2d1298d0-c648-4ea0-b412-b8adebca4113', 'text': '{\"RACFID\": \"USER002\", \"InferenceID\": \"inf-c6384717e06e\", \"ApplicationID\": \"APP3\", \"feedbackRelevance\": \"1\", \"feedbackType\": \"guardrail_failure\", \"guardrailFailureType\": null, \"description\": \"System was slow\", \"context\": {\"model_version\": \"v3.8\", \"latency_ms\": 895}}', 'created_at': '2024-03-09T19:31:23.204152'}, {'feedback_id': '85f61a45-83b8-49e3-8135-b35dcbcb716e', 'text': '{\"RACFID\": \"USER004\", \"InferenceID\": \"inf-49257d1b9aeb\", \"ApplicationID\": \"APP3\", \"feedbackRelevance\": null, \"feedbackType\": null, \"guardrailFailureType\": null, \"description\": \"System was slow\", \"context\": {\"model_version\": \"v5.5\", \"latency_ms\": 920}}', 'created_at': '2025-02-07T19:31:25.629154'}, {'feedback_id': '8c270347-8f75-4315-8961-7d774382cc5e', 'text': '{\"RACFID\": \"USER003\", \"InferenceID\": \"inf-1f57425068cd\", \"ApplicationID\": null, \"feedbackRelevance\": \"1\", \"feedbackType\": \"guardrail_failure\", \"guardrailFailureType\": \"profanity\", \"description\": \"System was slow\", \"context\": {\"model_version\": \"v4.1\", \"latency_ms\": 80}}', 'created_at': '2024-10-28T19:31:19.774788'}, {'feedback_id': 'aae7b69b-c3e1-4a4a-bc42-0d273f11fd7f', 'text': '{\"RACFID\": \"USER002\", \"InferenceID\": \"inf-a7cfb59ae5c8\", \"ApplicationID\": \"APP1\", \"feedbackRelevance\": \"1\", \"feedbackType\": null, \"guardrailFailureType\": null, \"description\": null, \"context\": {\"model_version\": \"v5.6\", \"latency_ms\": 1588}}', 'created_at': '2024-04-10T19:31:18.297097'}, {'feedback_id': '28c9acd6-4e43-4d44-8cdd-a71e16e95243', 'text': '{\"RACFID\": \"USER003\", \"InferenceID\": \"inf-dff35d9f8eaf\", \"ApplicationID\": \"APP2\", \"feedbackRelevance\": null, \"feedbackType\": \"guardrail_failure\", \"guardrailFailureType\": \"bias\", \"description\": null, \"context\": {\"model_version\": \"v3.1\", \"latency_ms\": 856}}', 'created_at': '2024-06-17T19:31:30.340340'}, {'feedback_id': '9818a573-20f8-4bfc-be3e-40ff3b79b2dd', 'text': '{\"RACFID\": \"USER001\", \"InferenceID\": \"inf-d18ee95f97d5\", \"ApplicationID\": \"APP3\", \"feedbackRelevance\": \"1\", \"feedbackType\": null, \"guardrailFailureType\": null, \"description\": null, \"context\": {\"model_version\": \"v4.1\", \"latency_ms\": 1015}}', 'created_at': '2024-11-17T19:31:17.168531'}, {'feedback_id': '89e5120c-b1af-41f6-9f1f-f62e5dd73643', 'text': '{\"RACFID\": \"USER003\", \"InferenceID\": \"inf-205f78d1213e\", \"ApplicationID\": \"APP1\", \"feedbackRelevance\": \"1\", \"feedbackType\": \"usability\", \"guardrailFailureType\": null, \"description\": null, \"context\": {\"model_version\": \"v1.7\", \"latency_ms\": 500}}', 'created_at': '2025-01-16T19:31:21.084535'}, {'feedback_id': '40b0935a-081f-4912-bcb6-1633f63103f8', 'text': '{\"RACFID\": \"USER003\", \"InferenceID\": \"inf-46e26ed97977\", \"ApplicationID\": \"APP2\", \"feedbackRelevance\": \"0\", \"feedbackType\": \"usability\", \"guardrailFailureType\": null, \"description\": \"Model hallucinated data\", \"context\": {\"model_version\": \"v4.1\", \"latency_ms\": 1573}}', 'created_at': '2024-09-12T19:31:17.340356'}, {'feedback_id': '9822d065-8339-4776-922f-f3e03ee264ba', 'text': '{\"RACFID\": \"USER003\", \"InferenceID\": \"inf-503ac4ada26e\", \"ApplicationID\": \"APP2\", \"feedbackRelevance\": \"0\", \"feedbackType\": \"guardrail_failure\", \"guardrailFailureType\": null, \"description\": \"System was slow\", \"context\": {\"model_version\": \"v1.1\", \"latency_ms\": 183}}', 'created_at': '2024-07-02T19:31:30.996425'}, {'feedback_id': 'a4961b43-c7a2-4c56-9f80-5aaa6930deed', 'text': '{\"RACFID\": \"USER001\", \"InferenceID\": \"inf-d760410b9992\", \"ApplicationID\": \"APP2\", \"feedbackRelevance\": \"0\", \"feedbackType\": \"performance_issue\", \"guardrailFailureType\": null, \"description\": null, \"context\": {\"model_version\": \"v3.5\", \"latency_ms\": 231}}', 'created_at': '2024-07-17T19:31:25.310201'}, {'feedback_id': '8f4f9fea-468d-4b5f-bdb6-c49938ffb2df', 'text': '{\"RACFID\": \"USER005\", \"InferenceID\": \"inf-728db270e4e3\", \"ApplicationID\": \"APP3\", \"feedbackRelevance\": null, \"feedbackType\": null, \"guardrailFailureType\": null, \"description\": \"Model hallucinated data\", \"context\": {\"model_version\": \"v1.7\", \"latency_ms\": 497}}', 'created_at': '2024-03-14T19:31:17.018403'}, {'feedback_id': '1d43275c-70a0-496f-909a-86851e46a2ed', 'text': '{\"RACFID\": \"USER004\", \"InferenceID\": \"inf-c5e24b939206\", \"ApplicationID\": \"APP1\", \"feedbackRelevance\": \"0\", \"feedbackType\": null, \"guardrailFailureType\": null, \"description\": \"System was slow\", \"context\": {\"model_version\": \"v3.8\", \"latency_ms\": 1086}}', 'created_at': '2024-10-19T19:31:32.141404'}, {'feedback_id': 'f1c6dcbe-f4a0-4c8b-bff1-bf1745f59d90', 'text': '{\"RACFID\": \"USER001\", \"InferenceID\": \"inf-a073cd191213\", \"ApplicationID\": \"APP2\", \"feedbackRelevance\": null, \"feedbackType\": \"performance_issue\", \"guardrailFailureType\": null, \"description\": \"System was slow\", \"context\": {\"model_version\": \"v2.1\", \"latency_ms\": 1114}}', 'created_at': '2024-10-29T19:31:17.978933'}], 'Count': 100, 'ScannedCount': 100, 'ResponseMetadata': {'RequestId': 'NN686MUMNQALRLICRCAKG16MQ7VV4KQNSO5AEMVJF66Q9ASUAAJG', 'HTTPStatusCode': 200, 'HTTPHeaders': {'server': 'Server', 'date': 'Tue, 04 Mar 2025 07:24:36 GMT', 'content-type': 'application/x-amz-json-1.0', 'content-length': '41656', 'connection': 'keep-alive', 'x-amzn-requestid': 'NN686MUMNQALRLICRCAKG16MQ7VV4KQNSO5AEMVJF66Q9ASUAAJG', 'x-amz-crc32': '3138497265'}, 'RetryAttempts': 0}}\n"
     ]
    }
   ],
   "source": [
    "import boto3\n",
    "\n",
    "table = boto3.resource('dynamodb', region_name=\"us-west-2\").Table(\"feedback\")\n",
    "\n",
    "response, all_items = {}, []\n",
    "while True:\n",
    "    scan_kwargs = {}\n",
    "    if 'LastEvaluatedKey' in response:\n",
    "        scan_kwargs[\"ExclusiveStartKey\"] = response['LastEvaluatedKey']\n",
    "\n",
    "    response = table.scan(**scan_kwargs)\n",
    "    all_items.extend(response.get('Items', []))\n",
    "\n",
    "    if 'LastEvaluatedKey' not in response:\n",
    "        break\n",
    "\n",
    "print(len(all_items))"
   ]
  },
  {
   "cell_type": "code",
   "execution_count": 18,
   "metadata": {},
   "outputs": [
    {
     "data": {
      "text/plain": [
       "[{'feedback_id': 'dd8cae11-2a29-4969-982e-8a196b2751ba',\n",
       "  'text': '{\"RACFID\": \"USER005\", \"InferenceID\": \"inf-b4b4c88001ea\", \"ApplicationID\": \"APP3\", \"feedbackRelevance\": \"1\", \"feedbackType\": null, \"guardrailFailureType\": null, \"description\": \"System was slow\", \"context\": {\"model_version\": \"v2.1\", \"latency_ms\": 1762}}',\n",
       "  'created_at': '2024-11-16T19:31:24.492223'},\n",
       " {'feedback_id': '9048640b-cef0-48b4-9b25-41c4bb42dc75',\n",
       "  'text': '{\"RACFID\": \"USER001\", \"InferenceID\": \"inf-721153a049b5\", \"ApplicationID\": \"APP3\", \"feedbackRelevance\": \"0\", \"feedbackType\": null, \"guardrailFailureType\": null, \"description\": \"Model hallucinated data\", \"context\": {\"model_version\": \"v1.1\", \"latency_ms\": 1530}}',\n",
       "  'created_at': '2024-08-03T19:31:31.163465'},\n",
       " {'feedback_id': '7f75ba0e-8825-4a67-998a-4a4904bcaa0e',\n",
       "  'text': '{\"RACFID\": \"USER001\", \"InferenceID\": \"inf-d5b81a1ea670\", \"ApplicationID\": \"APP3\", \"feedbackRelevance\": \"1\", \"feedbackType\": \"guardrail_failure\", \"guardrailFailureType\": \"hallucination\", \"description\": \"Model hallucinated data\", \"context\": {\"model_version\": \"v2.6\", \"latency_ms\": 481}}',\n",
       "  'created_at': '2024-11-11T19:31:24.326347'},\n",
       " {'feedback_id': '4e6f608e-d4f9-464b-9a2a-253fec64f45b',\n",
       "  'text': '{\"RACFID\": \"USER004\", \"InferenceID\": \"inf-d92c4dd5ca9e\", \"ApplicationID\": \"APP1\", \"feedbackRelevance\": \"1\", \"feedbackType\": \"performance_issue\", \"guardrailFailureType\": null, \"description\": \"System was slow\", \"context\": {\"model_version\": \"v4.7\", \"latency_ms\": 1845}}',\n",
       "  'created_at': '2024-10-05T19:31:24.825358'},\n",
       " {'feedback_id': 'f57d69d5-b868-45b8-afbc-a79df3890db9',\n",
       "  'text': '{\"RACFID\": \"USER002\", \"InferenceID\": \"inf-fce7fae8087d\", \"ApplicationID\": \"APP3\", \"feedbackRelevance\": null, \"feedbackType\": \"guardrail_failure\", \"guardrailFailureType\": \"bias\", \"description\": \"Model hallucinated data\", \"context\": {\"model_version\": \"v1.2\", \"latency_ms\": 771}}',\n",
       "  'created_at': '2024-08-25T19:31:20.436518'},\n",
       " {'feedback_id': '4e7005a0-72f2-4b97-8a75-1c82ce8ff829',\n",
       "  'text': '{\"RACFID\": \"USER001\", \"InferenceID\": \"inf-3dca6a7abbc8\", \"ApplicationID\": \"APP2\", \"feedbackRelevance\": \"0\", \"feedbackType\": null, \"guardrailFailureType\": null, \"description\": null, \"context\": {\"model_version\": \"v3.5\", \"latency_ms\": 83}}',\n",
       "  'created_at': '2024-03-21T19:31:16.355361'},\n",
       " {'feedback_id': 'a8f0207f-acd6-42ff-9587-21069370031b',\n",
       "  'text': '{\"RACFID\": \"USER003\", \"InferenceID\": \"inf-7c2a9e0dd2cb\", \"ApplicationID\": null, \"feedbackRelevance\": \"0\", \"feedbackType\": null, \"guardrailFailureType\": null, \"description\": \"System was slow\", \"context\": {\"model_version\": \"v4.1\", \"latency_ms\": 953}}',\n",
       "  'created_at': '2024-03-16T19:31:16.526774'},\n",
       " {'feedback_id': 'a1de2027-53de-41ad-996e-34eaf6d607d9',\n",
       "  'text': '{\"RACFID\": \"USER002\", \"InferenceID\": \"inf-f0b466bef7da\", \"ApplicationID\": \"APP2\", \"feedbackRelevance\": \"1\", \"feedbackType\": \"performance_issue\", \"guardrailFailureType\": null, \"description\": \"System was slow\", \"context\": {\"model_version\": \"v2.3\", \"latency_ms\": 1803}}',\n",
       "  'created_at': '2025-01-16T19:31:16.851215'},\n",
       " {'feedback_id': '48fc52c8-bbe5-4e02-bd93-ca12f799eb5a',\n",
       "  'text': '{\"RACFID\": \"USER001\", \"InferenceID\": \"inf-c74e9a17792a\", \"ApplicationID\": \"APP1\", \"feedbackRelevance\": \"0\", \"feedbackType\": null, \"guardrailFailureType\": null, \"description\": null, \"context\": {\"model_version\": \"v4.2\", \"latency_ms\": 525}}',\n",
       "  'created_at': '2024-11-10T19:31:18.788500'},\n",
       " {'feedback_id': '70dd63af-c730-4316-8875-63cee3dc98b8',\n",
       "  'text': '{\"RACFID\": \"USER004\", \"InferenceID\": \"inf-faead7fe7435\", \"ApplicationID\": null, \"feedbackRelevance\": \"1\", \"feedbackType\": \"usability\", \"guardrailFailureType\": null, \"description\": null, \"context\": {\"model_version\": \"v1.2\", \"latency_ms\": 1022}}',\n",
       "  'created_at': '2024-07-19T19:31:27.726229'},\n",
       " {'feedback_id': '20e286cc-d16e-4488-b692-fdfb6fc5cde7',\n",
       "  'text': '{\"RACFID\": \"USER004\", \"InferenceID\": \"inf-a716408cefd3\", \"ApplicationID\": \"APP3\", \"feedbackRelevance\": null, \"feedbackType\": \"performance_issue\", \"guardrailFailureType\": null, \"description\": null, \"context\": {\"model_version\": \"v3.1\", \"latency_ms\": 75}}',\n",
       "  'created_at': '2024-06-15T19:31:18.623591'},\n",
       " {'feedback_id': 'fa989501-398a-4de9-94a2-d0f736edcbf1',\n",
       "  'text': '{\"RACFID\": \"USER002\", \"InferenceID\": \"inf-569445da5228\", \"ApplicationID\": \"APP3\", \"feedbackRelevance\": \"0\", \"feedbackType\": \"performance_issue\", \"guardrailFailureType\": null, \"description\": null, \"context\": {\"model_version\": \"v3.0\", \"latency_ms\": 712}}',\n",
       "  'created_at': '2025-02-13T19:31:19.601899'},\n",
       " {'feedback_id': '98ddd39c-986d-4ce2-b963-20d1b78d5e24',\n",
       "  'text': '{\"RACFID\": \"USER004\", \"InferenceID\": \"inf-b973e6f9a066\", \"ApplicationID\": \"APP1\", \"feedbackRelevance\": \"1\", \"feedbackType\": null, \"guardrailFailureType\": null, \"description\": \"System was slow\", \"context\": {\"model_version\": \"v4.4\", \"latency_ms\": 1194}}',\n",
       "  'created_at': '2024-08-15T19:31:28.059480'},\n",
       " {'feedback_id': 'cfc49c27-e1e2-479c-82ee-0132aedd5d09',\n",
       "  'text': '{\"RACFID\": \"USER003\", \"InferenceID\": \"inf-4d14a8fcc03b\", \"ApplicationID\": \"APP3\", \"feedbackRelevance\": null, \"feedbackType\": null, \"guardrailFailureType\": null, \"description\": \"System was slow\", \"context\": {\"model_version\": \"v2.7\", \"latency_ms\": 694}}',\n",
       "  'created_at': '2024-12-04T19:31:20.596478'},\n",
       " {'feedback_id': 'a0fc67bb-edd8-40b5-8de5-cfa666ee254d',\n",
       "  'text': '{\"RACFID\": \"USER004\", \"InferenceID\": \"inf-bacbd44d8b9f\", \"ApplicationID\": \"APP3\", \"feedbackRelevance\": \"0\", \"feedbackType\": null, \"guardrailFailureType\": null, \"description\": null, \"context\": {\"model_version\": \"v4.0\", \"latency_ms\": 724}}',\n",
       "  'created_at': '2025-01-16T19:31:20.099955'},\n",
       " {'feedback_id': 'f336ab4f-7a53-4e3e-9da6-244265ab96e9',\n",
       "  'text': '{\"RACFID\": \"USER004\", \"InferenceID\": \"inf-1543dad48312\", \"ApplicationID\": null, \"feedbackRelevance\": \"1\", \"feedbackType\": \"usability\", \"guardrailFailureType\": null, \"description\": \"Model hallucinated data\", \"context\": {\"model_version\": \"v3.8\", \"latency_ms\": 1957}}',\n",
       "  'created_at': '2025-02-08T19:31:23.836041'},\n",
       " {'feedback_id': '767ddff3-8b4a-4a66-b5c2-6afecc30444a',\n",
       "  'text': '{\"RACFID\": \"USER004\", \"InferenceID\": \"inf-d134e9dd050d\", \"ApplicationID\": null, \"feedbackRelevance\": \"1\", \"feedbackType\": \"usability\", \"guardrailFailureType\": null, \"description\": null, \"context\": {\"model_version\": \"v2.6\", \"latency_ms\": 97}}',\n",
       "  'created_at': '2024-11-28T19:31:19.118717'},\n",
       " {'feedback_id': 'dbd92f99-d186-4155-a71a-4bc7ff13de12',\n",
       "  'text': '{\"RACFID\": \"USER001\", \"InferenceID\": \"inf-ce8dceb4d1f8\", \"ApplicationID\": \"APP3\", \"feedbackRelevance\": \"0\", \"feedbackType\": \"guardrail_failure\", \"guardrailFailureType\": \"hallucination\", \"description\": \"Model hallucinated data\", \"context\": {\"model_version\": \"v5.5\", \"latency_ms\": 1131}}',\n",
       "  'created_at': '2025-02-06T19:31:24.986051'},\n",
       " {'feedback_id': '09c244de-0060-4c01-800d-9736af04dce6',\n",
       "  'text': '{\"RACFID\": \"USER004\", \"InferenceID\": \"inf-724e56d6addd\", \"ApplicationID\": null, \"feedbackRelevance\": \"1\", \"feedbackType\": \"performance_issue\", \"guardrailFailureType\": null, \"description\": \"System was slow\", \"context\": {\"model_version\": \"v1.5\", \"latency_ms\": 1035}}',\n",
       "  'created_at': '2024-08-02T19:31:27.399404'},\n",
       " {'feedback_id': '3568e5d9-24a8-4a45-88fe-6bb5e196b22f',\n",
       "  'text': '{\"RACFID\": \"USER004\", \"InferenceID\": \"inf-7ec7f0fd259f\", \"ApplicationID\": \"APP2\", \"feedbackRelevance\": \"1\", \"feedbackType\": \"performance_issue\", \"guardrailFailureType\": null, \"description\": null, \"context\": {\"model_version\": \"v2.7\", \"latency_ms\": 1921}}',\n",
       "  'created_at': '2025-01-04T19:31:30.665951'},\n",
       " {'feedback_id': 'fbf59659-0175-4f53-9eef-ff8916fbf656',\n",
       "  'text': '{\"RACFID\": \"USER002\", \"InferenceID\": \"inf-f157b6e7b552\", \"ApplicationID\": \"APP3\", \"feedbackRelevance\": \"0\", \"feedbackType\": \"performance_issue\", \"guardrailFailureType\": null, \"description\": \"System was slow\", \"context\": {\"model_version\": \"v1.2\", \"latency_ms\": 1395}}',\n",
       "  'created_at': '2024-07-14T19:31:22.370544'},\n",
       " {'feedback_id': '50d23449-4e35-48fc-869b-14e0e3d53bea',\n",
       "  'text': '{\"RACFID\": \"USER003\", \"InferenceID\": \"inf-fa59f6580e4a\", \"ApplicationID\": \"APP2\", \"feedbackRelevance\": null, \"feedbackType\": \"usability\", \"guardrailFailureType\": null, \"description\": null, \"context\": {\"model_version\": \"v4.0\", \"latency_ms\": 214}}',\n",
       "  'created_at': '2025-01-16T19:31:25.469029'},\n",
       " {'feedback_id': 'd84ecfc4-f3d8-4967-b0b6-1a6c7479a31f',\n",
       "  'text': '{\"RACFID\": \"USER004\", \"InferenceID\": \"inf-3836af2cf5e6\", \"ApplicationID\": \"APP1\", \"feedbackRelevance\": null, \"feedbackType\": \"usability\", \"guardrailFailureType\": null, \"description\": \"System was slow\", \"context\": {\"model_version\": \"v2.6\", \"latency_ms\": 201}}',\n",
       "  'created_at': '2024-08-30T19:31:22.212529'},\n",
       " {'feedback_id': 'd9f57191-5571-4d2e-b839-676aacd9fd9d',\n",
       "  'text': '{\"RACFID\": \"USER004\", \"InferenceID\": \"inf-f64790727803\", \"ApplicationID\": \"APP1\", \"feedbackRelevance\": null, \"feedbackType\": \"guardrail_failure\", \"guardrailFailureType\": \"hallucination\", \"description\": \"System was slow\", \"context\": {\"model_version\": \"v3.3\", \"latency_ms\": 1770}}',\n",
       "  'created_at': '2024-12-25T19:31:21.249175'},\n",
       " {'feedback_id': 'bd3711bc-fbb5-44ae-83a9-f3a7f7212651',\n",
       "  'text': '{\"RACFID\": \"USER004\", \"InferenceID\": \"inf-086e16460eb1\", \"ApplicationID\": null, \"feedbackRelevance\": null, \"feedbackType\": null, \"guardrailFailureType\": null, \"description\": null, \"context\": {\"model_version\": \"v5.8\", \"latency_ms\": 1633}}',\n",
       "  'created_at': '2025-01-05T19:31:23.520370'},\n",
       " {'feedback_id': 'c9f53cfd-2bb5-4dd7-8478-f3c6dd7b9606',\n",
       "  'text': '{\"RACFID\": \"USER002\", \"InferenceID\": \"inf-b583807c6949\", \"ApplicationID\": \"APP3\", \"feedbackRelevance\": \"0\", \"feedbackType\": null, \"guardrailFailureType\": null, \"description\": \"System was slow\", \"context\": {\"model_version\": \"v4.1\", \"latency_ms\": 1633}}',\n",
       "  'created_at': '2024-11-30T19:31:16.684794'},\n",
       " {'feedback_id': 'aaf87668-6cbe-4eb4-9717-f82e9712372d',\n",
       "  'text': '{\"RACFID\": \"USER001\", \"InferenceID\": \"inf-3c7ff7a9e3d7\", \"ApplicationID\": null, \"feedbackRelevance\": \"0\", \"feedbackType\": \"performance_issue\", \"guardrailFailureType\": null, \"description\": \"System was slow\", \"context\": {\"model_version\": \"v2.6\", \"latency_ms\": 474}}',\n",
       "  'created_at': '2024-07-12T19:31:22.700360'},\n",
       " {'feedback_id': '35ba1b3f-2da7-44c2-a901-38f8345d3b83',\n",
       "  'text': '{\"RACFID\": \"USER005\", \"InferenceID\": \"inf-bc9293f86b78\", \"ApplicationID\": \"APP1\", \"feedbackRelevance\": null, \"feedbackType\": \"performance_issue\", \"guardrailFailureType\": null, \"description\": \"Model hallucinated data\", \"context\": {\"model_version\": \"v3.3\", \"latency_ms\": 1503}}',\n",
       "  'created_at': '2024-06-11T19:31:27.239051'},\n",
       " {'feedback_id': '862cb1ed-0104-40f1-95eb-87196874b4a3',\n",
       "  'text': '{\"RACFID\": \"USER004\", \"InferenceID\": \"inf-ccdc8d5c4ca4\", \"ApplicationID\": \"APP1\", \"feedbackRelevance\": \"1\", \"feedbackType\": \"performance_issue\", \"guardrailFailureType\": null, \"description\": \"System was slow\", \"context\": {\"model_version\": \"v2.1\", \"latency_ms\": 438}}',\n",
       "  'created_at': '2024-07-25T19:31:16.189961'},\n",
       " {'feedback_id': 'a0216c8f-0c91-44a3-aa33-726930778f74',\n",
       "  'text': '{\"RACFID\": \"USER003\", \"InferenceID\": \"inf-61b9bfbe0abc\", \"ApplicationID\": \"APP3\", \"feedbackRelevance\": \"1\", \"feedbackType\": \"performance_issue\", \"guardrailFailureType\": null, \"description\": \"Model hallucinated data\", \"context\": {\"model_version\": \"v1.8\", \"latency_ms\": 1926}}',\n",
       "  'created_at': '2024-06-07T19:31:26.755027'},\n",
       " {'feedback_id': '6029595d-b0cd-49ca-a06b-0f171537518b',\n",
       "  'text': '{\"RACFID\": \"USER002\", \"InferenceID\": \"inf-63f0aada6297\", \"ApplicationID\": \"APP3\", \"feedbackRelevance\": null, \"feedbackType\": null, \"guardrailFailureType\": null, \"description\": \"Model hallucinated data\", \"context\": {\"model_version\": \"v1.1\", \"latency_ms\": 1017}}',\n",
       "  'created_at': '2025-02-16T19:31:19.284519'},\n",
       " {'feedback_id': '036b4ab9-e18b-45d9-8325-820d12bc3668',\n",
       "  'text': '{\"RACFID\": \"USER004\", \"InferenceID\": \"inf-924c9bf03cb3\", \"ApplicationID\": \"APP1\", \"feedbackRelevance\": \"0\", \"feedbackType\": \"guardrail_failure\", \"guardrailFailureType\": null, \"description\": \"Model hallucinated data\", \"context\": {\"model_version\": \"v3.7\", \"latency_ms\": 1340}}',\n",
       "  'created_at': '2024-11-03T19:31:17.656923'},\n",
       " {'feedback_id': 'fa65c690-39fd-4109-a78a-9aeafa33c3f0',\n",
       "  'text': '{\"RACFID\": \"USER004\", \"InferenceID\": \"inf-3ddc69670454\", \"ApplicationID\": \"APP2\", \"feedbackRelevance\": null, \"feedbackType\": null, \"guardrailFailureType\": null, \"description\": \"Model hallucinated data\", \"context\": {\"model_version\": \"v3.0\", \"latency_ms\": 466}}',\n",
       "  'created_at': '2024-04-11T19:31:23.361574'},\n",
       " {'feedback_id': 'c8afcb51-f81b-4a6a-a374-c8d502f783a1',\n",
       "  'text': '{\"RACFID\": \"USER001\", \"InferenceID\": \"inf-b04dfd7ad7d5\", \"ApplicationID\": null, \"feedbackRelevance\": null, \"feedbackType\": \"usability\", \"guardrailFailureType\": null, \"description\": \"Model hallucinated data\", \"context\": {\"model_version\": \"v2.7\", \"latency_ms\": 1971}}',\n",
       "  'created_at': '2024-07-28T19:31:28.551125'},\n",
       " {'feedback_id': '8f639420-116c-4f32-83ce-b2d5ea9feb02',\n",
       "  'text': '{\"RACFID\": \"USER005\", \"InferenceID\": \"inf-c00ade27c22b\", \"ApplicationID\": \"APP1\", \"feedbackRelevance\": \"1\", \"feedbackType\": null, \"guardrailFailureType\": null, \"description\": \"Model hallucinated data\", \"context\": {\"model_version\": \"v1.0\", \"latency_ms\": 715}}',\n",
       "  'created_at': '2024-03-04T19:31:22.869240'},\n",
       " {'feedback_id': 'bcd384bc-e58f-47ce-8362-8b6495dbd528',\n",
       "  'text': '{\"RACFID\": \"USER002\", \"InferenceID\": \"inf-8fdc569bcdc6\", \"ApplicationID\": \"APP1\", \"feedbackRelevance\": \"1\", \"feedbackType\": \"performance_issue\", \"guardrailFailureType\": null, \"description\": \"Model hallucinated data\", \"context\": {\"model_version\": \"v2.9\", \"latency_ms\": 443}}',\n",
       "  'created_at': '2024-09-04T19:31:22.053523'},\n",
       " {'feedback_id': '019c6ece-6d46-4d2d-96d3-d66292900f7c',\n",
       "  'text': '{\"RACFID\": \"USER001\", \"InferenceID\": \"inf-9d23aa3117b5\", \"ApplicationID\": \"APP1\", \"feedbackRelevance\": \"1\", \"feedbackType\": \"guardrail_failure\", \"guardrailFailureType\": \"profanity\", \"description\": \"Model hallucinated data\", \"context\": {\"model_version\": \"v2.6\", \"latency_ms\": 159}}',\n",
       "  'created_at': '2024-07-28T19:31:25.952593'},\n",
       " {'feedback_id': '11ca3572-715c-4aee-a35c-adac7c238855',\n",
       "  'text': '{\"RACFID\": \"USER005\", \"InferenceID\": \"inf-459ac7611d92\", \"ApplicationID\": \"APP3\", \"feedbackRelevance\": \"1\", \"feedbackType\": \"usability\", \"guardrailFailureType\": null, \"description\": null, \"context\": {\"model_version\": \"v5.5\", \"latency_ms\": 130}}',\n",
       "  'created_at': '2024-12-06T19:31:17.497007'},\n",
       " {'feedback_id': 'b1a59651-18b8-41cc-8b84-f756b64f48b2',\n",
       "  'text': '{\"RACFID\": \"USER003\", \"InferenceID\": \"inf-56346231f5a5\", \"ApplicationID\": \"APP1\", \"feedbackRelevance\": \"0\", \"feedbackType\": \"guardrail_failure\", \"guardrailFailureType\": null, \"description\": null, \"context\": {\"model_version\": \"v4.3\", \"latency_ms\": 987}}',\n",
       "  'created_at': '2024-03-27T19:31:31.488394'},\n",
       " {'feedback_id': 'da4ecda9-9c2b-4702-be9b-eedc51fbf3c4',\n",
       "  'text': '{\"RACFID\": \"USER003\", \"InferenceID\": \"inf-b1cd68348d9a\", \"ApplicationID\": \"APP1\", \"feedbackRelevance\": \"1\", \"feedbackType\": \"guardrail_failure\", \"guardrailFailureType\": null, \"description\": \"System was slow\", \"context\": {\"model_version\": \"v1.3\", \"latency_ms\": 1148}}',\n",
       "  'created_at': '2024-06-11T19:31:21.738872'},\n",
       " {'feedback_id': '6be2fe17-532a-4365-8393-f1bcaa5fb41a',\n",
       "  'text': '{\"RACFID\": \"USER005\", \"InferenceID\": \"inf-2553aa1d7100\", \"ApplicationID\": \"APP1\", \"feedbackRelevance\": \"0\", \"feedbackType\": null, \"guardrailFailureType\": null, \"description\": \"System was slow\", \"context\": {\"model_version\": \"v3.1\", \"latency_ms\": 1532}}',\n",
       "  'created_at': '2024-05-05T19:31:22.535689'},\n",
       " {'feedback_id': '239b0cf3-88b9-436e-8f35-496b6bacf8e3',\n",
       "  'text': '{\"RACFID\": \"USER003\", \"InferenceID\": \"inf-7cdb1fc17999\", \"ApplicationID\": null, \"feedbackRelevance\": null, \"feedbackType\": \"guardrail_failure\", \"guardrailFailureType\": \"bias\", \"description\": null, \"context\": {\"model_version\": \"v1.6\", \"latency_ms\": 905}}',\n",
       "  'created_at': '2024-07-02T19:31:30.175043'},\n",
       " {'feedback_id': 'c87f6a39-ecad-4c21-a983-ec96d2bd83be',\n",
       "  'text': '{\"RACFID\": \"USER004\", \"InferenceID\": \"inf-5d426d801b43\", \"ApplicationID\": null, \"feedbackRelevance\": null, \"feedbackType\": \"guardrail_failure\", \"guardrailFailureType\": null, \"description\": null, \"context\": {\"model_version\": \"v2.7\", \"latency_ms\": 1546}}',\n",
       "  'created_at': '2024-05-27T19:31:29.522894'},\n",
       " {'feedback_id': '15dbc7ac-f7ef-49b3-8620-fb58d785892f',\n",
       "  'text': '{\"RACFID\": \"USER003\", \"InferenceID\": \"inf-7df5d9084c69\", \"ApplicationID\": \"APP1\", \"feedbackRelevance\": null, \"feedbackType\": \"performance_issue\", \"guardrailFailureType\": null, \"description\": \"System was slow\", \"context\": {\"model_version\": \"v1.4\", \"latency_ms\": 461}}',\n",
       "  'created_at': '2024-03-25T19:31:21.578829'},\n",
       " {'feedback_id': '4eb4e96c-f4d3-4b85-9345-98ad81432ad1',\n",
       "  'text': '{\"RACFID\": \"USER005\", \"InferenceID\": \"inf-7d24e5a0b6fc\", \"ApplicationID\": \"APP2\", \"feedbackRelevance\": null, \"feedbackType\": \"usability\", \"guardrailFailureType\": null, \"description\": null, \"context\": {\"model_version\": \"v4.4\", \"latency_ms\": 1460}}',\n",
       "  'created_at': '2024-12-15T19:31:28.709362'},\n",
       " {'feedback_id': 'ea9a2d9d-ec0a-4e60-9e02-2b8b9597ca09',\n",
       "  'text': '{\"RACFID\": \"USER002\", \"InferenceID\": \"inf-3cb2c53d1cc4\", \"ApplicationID\": \"APP1\", \"feedbackRelevance\": \"1\", \"feedbackType\": \"performance_issue\", \"guardrailFailureType\": null, \"description\": null, \"context\": {\"model_version\": \"v3.2\", \"latency_ms\": 536}}',\n",
       "  'created_at': '2024-07-11T19:31:26.424109'},\n",
       " {'feedback_id': '5ccc4dac-b973-4503-97f5-d4577734bafc',\n",
       "  'text': '{\"RACFID\": \"USER003\", \"InferenceID\": \"inf-a81a5260f92e\", \"ApplicationID\": \"APP2\", \"feedbackRelevance\": \"0\", \"feedbackType\": null, \"guardrailFailureType\": null, \"description\": \"Model hallucinated data\", \"context\": {\"model_version\": \"v4.3\", \"latency_ms\": 1307}}',\n",
       "  'created_at': '2024-06-06T19:31:20.762656'},\n",
       " {'feedback_id': '74b46659-1e43-4ea4-bd3b-20bd68ce7378',\n",
       "  'text': '{\"RACFID\": \"USER005\", \"InferenceID\": \"inf-a59950b0b91d\", \"ApplicationID\": \"APP2\", \"feedbackRelevance\": \"0\", \"feedbackType\": \"performance_issue\", \"guardrailFailureType\": null, \"description\": \"System was slow\", \"context\": {\"model_version\": \"v5.1\", \"latency_ms\": 1055}}',\n",
       "  'created_at': '2025-02-26T19:31:31.646523'},\n",
       " {'feedback_id': '31ab8630-8951-43c6-97fc-e387e293042d',\n",
       "  'text': '{\"RACFID\": \"USER005\", \"InferenceID\": \"inf-bd65bb5b28b8\", \"ApplicationID\": \"APP1\", \"feedbackRelevance\": \"1\", \"feedbackType\": \"guardrail_failure\", \"guardrailFailureType\": null, \"description\": \"System was slow\", \"context\": {\"model_version\": \"v5.3\", \"latency_ms\": 1023}}',\n",
       "  'created_at': '2024-06-30T19:31:24.166072'},\n",
       " {'feedback_id': '83c032ed-e459-4b6a-a441-cdf1ff02f932',\n",
       "  'text': '{\"RACFID\": \"USER005\", \"InferenceID\": \"inf-d55c855aa1f4\", \"ApplicationID\": \"APP2\", \"feedbackRelevance\": \"1\", \"feedbackType\": \"performance_issue\", \"guardrailFailureType\": null, \"description\": null, \"context\": {\"model_version\": \"v4.2\", \"latency_ms\": 1472}}',\n",
       "  'created_at': '2024-12-17T19:31:31.810040'},\n",
       " {'feedback_id': 'e11d58bd-a2d2-4734-b014-f383fde83652',\n",
       "  'text': '{\"RACFID\": \"USER005\", \"InferenceID\": \"inf-8d916a7dd412\", \"ApplicationID\": null, \"feedbackRelevance\": \"1\", \"feedbackType\": \"guardrail_failure\", \"guardrailFailureType\": \"bias\", \"description\": \"System was slow\", \"context\": {\"model_version\": \"v5.6\", \"latency_ms\": 1219}}',\n",
       "  'created_at': '2024-11-26T19:31:19.438141'},\n",
       " {'feedback_id': 'ad501bc2-aca6-4b01-9a8f-3089f931f6bf',\n",
       "  'text': '{\"RACFID\": \"USER004\", \"InferenceID\": \"inf-a76f207485e9\", \"ApplicationID\": \"APP2\", \"feedbackRelevance\": null, \"feedbackType\": \"guardrail_failure\", \"guardrailFailureType\": \"hallucination\", \"description\": null, \"context\": {\"model_version\": \"v1.7\", \"latency_ms\": 1220}}',\n",
       "  'created_at': '2024-09-05T19:31:27.894403'},\n",
       " {'feedback_id': '3e9d3952-b41f-4ae6-ba76-3708d634f3a3',\n",
       "  'text': '{\"RACFID\": \"USER001\", \"InferenceID\": \"inf-1039fdb55755\", \"ApplicationID\": \"APP3\", \"feedbackRelevance\": null, \"feedbackType\": \"guardrail_failure\", \"guardrailFailureType\": \"bias\", \"description\": null, \"context\": {\"model_version\": \"v3.5\", \"latency_ms\": 1413}}',\n",
       "  'created_at': '2024-07-29T19:31:28.216827'},\n",
       " {'feedback_id': '1d26bd44-92d0-4463-af22-e9615c0b3f6c',\n",
       "  'text': '{\"RACFID\": \"USER001\", \"InferenceID\": \"inf-982ef9948fb0\", \"ApplicationID\": \"APP1\", \"feedbackRelevance\": \"1\", \"feedbackType\": \"guardrail_failure\", \"guardrailFailureType\": \"bias\", \"description\": \"Model hallucinated data\", \"context\": {\"model_version\": \"v2.2\", \"latency_ms\": 1583}}',\n",
       "  'created_at': '2024-05-11T19:31:30.007413'},\n",
       " {'feedback_id': '5c9662a4-22ba-4927-ac5e-abde1d8ec491',\n",
       "  'text': '{\"RACFID\": \"USER001\", \"InferenceID\": \"inf-180eb45d53c8\", \"ApplicationID\": \"APP3\", \"feedbackRelevance\": \"0\", \"feedbackType\": \"guardrail_failure\", \"guardrailFailureType\": \"profanity\", \"description\": \"Model hallucinated data\", \"context\": {\"model_version\": \"v2.4\", \"latency_ms\": 1210}}',\n",
       "  'created_at': '2024-05-06T19:31:29.844576'},\n",
       " {'feedback_id': '4611e64d-1138-446f-8600-58c7258f4dd5',\n",
       "  'text': '{\"RACFID\": \"USER001\", \"InferenceID\": \"inf-fb47210f0e30\", \"ApplicationID\": \"APP2\", \"feedbackRelevance\": null, \"feedbackType\": \"performance_issue\", \"guardrailFailureType\": null, \"description\": null, \"context\": {\"model_version\": \"v5.5\", \"latency_ms\": 849}}',\n",
       "  'created_at': '2024-08-25T19:31:21.897416'},\n",
       " {'feedback_id': 'aa1faa80-fc5a-4db3-a21e-599d998df409',\n",
       "  'text': '{\"RACFID\": \"USER002\", \"InferenceID\": \"inf-b2f726e54e02\", \"ApplicationID\": \"APP2\", \"feedbackRelevance\": \"1\", \"feedbackType\": \"guardrail_failure\", \"guardrailFailureType\": \"hallucination\", \"description\": null, \"context\": {\"model_version\": \"v3.7\", \"latency_ms\": 808}}',\n",
       "  'created_at': '2024-07-01T19:31:27.566392'},\n",
       " {'feedback_id': 'c2459e65-b999-44c0-8348-f8642f551462',\n",
       "  'text': '{\"RACFID\": \"USER003\", \"InferenceID\": \"inf-9c9c3bf07aa7\", \"ApplicationID\": \"APP1\", \"feedbackRelevance\": null, \"feedbackType\": \"usability\", \"guardrailFailureType\": null, \"description\": \"System was slow\", \"context\": {\"model_version\": \"v3.9\", \"latency_ms\": 1920}}',\n",
       "  'created_at': '2024-08-04T19:31:18.465025'},\n",
       " {'feedback_id': '895b6ecf-681d-4582-8f85-40fa946fa8b6',\n",
       "  'text': '{\"RACFID\": \"USER001\", \"InferenceID\": \"inf-b4819226ed60\", \"ApplicationID\": null, \"feedbackRelevance\": null, \"feedbackType\": \"performance_issue\", \"guardrailFailureType\": null, \"description\": null, \"context\": {\"model_version\": \"v4.4\", \"latency_ms\": 1741}}',\n",
       "  'created_at': '2024-10-05T19:31:20.275283'},\n",
       " {'feedback_id': 'e237fa44-1213-4adf-ba24-b9cb059647b2',\n",
       "  'text': '{\"RACFID\": \"USER005\", \"InferenceID\": \"inf-b9fe51dac4cd\", \"ApplicationID\": \"APP3\", \"feedbackRelevance\": \"0\", \"feedbackType\": \"performance_issue\", \"guardrailFailureType\": null, \"description\": \"Model hallucinated data\", \"context\": {\"model_version\": \"v4.4\", \"latency_ms\": 1532}}',\n",
       "  'created_at': '2025-02-18T19:31:26.584010'},\n",
       " {'feedback_id': '1846cc63-5874-4855-a4dc-b2bc5b8e95d0',\n",
       "  'text': '{\"RACFID\": \"USER003\", \"InferenceID\": \"inf-18b93787dcd6\", \"ApplicationID\": \"APP1\", \"feedbackRelevance\": \"0\", \"feedbackType\": null, \"guardrailFailureType\": null, \"description\": \"Model hallucinated data\", \"context\": {\"model_version\": \"v3.0\", \"latency_ms\": 1301}}',\n",
       "  'created_at': '2024-10-13T19:31:24.659333'},\n",
       " {'feedback_id': 'ffdba65a-6206-407e-81cf-b0e4dc787751',\n",
       "  'text': '{\"RACFID\": \"USER002\", \"InferenceID\": \"inf-f2a41cbb2a62\", \"ApplicationID\": \"APP3\", \"feedbackRelevance\": \"1\", \"feedbackType\": \"guardrail_failure\", \"guardrailFailureType\": \"profanity\", \"description\": \"Model hallucinated data\", \"context\": {\"model_version\": \"v2.6\", \"latency_ms\": 93}}',\n",
       "  'created_at': '2024-04-04T19:31:29.683888'},\n",
       " {'feedback_id': '718dd54c-fcb2-422b-a3b3-17b92e371c40',\n",
       "  'text': '{\"RACFID\": \"USER001\", \"InferenceID\": \"inf-f045fae67026\", \"ApplicationID\": \"APP1\", \"feedbackRelevance\": \"1\", \"feedbackType\": \"performance_issue\", \"guardrailFailureType\": null, \"description\": \"System was slow\", \"context\": {\"model_version\": \"v4.7\", \"latency_ms\": 1690}}',\n",
       "  'created_at': '2024-12-11T19:31:28.384264'},\n",
       " {'feedback_id': 'd12d1e51-0376-4dd6-bcc8-fb5c673359da',\n",
       "  'text': '{\"RACFID\": \"USER005\", \"InferenceID\": \"inf-951340a4ccd7\", \"ApplicationID\": \"APP3\", \"feedbackRelevance\": null, \"feedbackType\": null, \"guardrailFailureType\": null, \"description\": \"Model hallucinated data\", \"context\": {\"model_version\": \"v3.5\", \"latency_ms\": 1942}}',\n",
       "  'created_at': '2024-11-24T19:31:18.955200'},\n",
       " {'feedback_id': '08a50856-5b95-4d84-a80c-c0757638e860',\n",
       "  'text': '{\"RACFID\": \"USER003\", \"InferenceID\": \"inf-790444485387\", \"ApplicationID\": \"APP3\", \"feedbackRelevance\": \"0\", \"feedbackType\": \"performance_issue\", \"guardrailFailureType\": null, \"description\": \"Model hallucinated data\", \"context\": {\"model_version\": \"v1.7\", \"latency_ms\": 296}}',\n",
       "  'created_at': '2024-04-26T19:31:23.034771'},\n",
       " {'feedback_id': '87cc7c60-25ad-490a-9a86-3b6bd13ee05d',\n",
       "  'text': '{\"RACFID\": \"USER005\", \"InferenceID\": \"inf-dfb0bda365fc\", \"ApplicationID\": null, \"feedbackRelevance\": \"0\", \"feedbackType\": \"usability\", \"guardrailFailureType\": null, \"description\": null, \"context\": {\"model_version\": \"v4.9\", \"latency_ms\": 1188}}',\n",
       "  'created_at': '2024-11-23T19:31:26.267337'},\n",
       " {'feedback_id': 'e0b6dc8e-b192-4aba-a204-4bd5057978c4',\n",
       "  'text': '{\"RACFID\": \"USER002\", \"InferenceID\": \"inf-b62ff718e44b\", \"ApplicationID\": null, \"feedbackRelevance\": \"1\", \"feedbackType\": null, \"guardrailFailureType\": null, \"description\": null, \"context\": {\"model_version\": \"v2.2\", \"latency_ms\": 1494}}',\n",
       "  'created_at': '2024-11-12T19:31:23.670312'},\n",
       " {'feedback_id': '63dce98a-e818-432c-b693-2e12952cfedb',\n",
       "  'text': '{\"RACFID\": \"USER002\", \"InferenceID\": \"inf-73aec688b51d\", \"ApplicationID\": \"APP3\", \"feedbackRelevance\": \"1\", \"feedbackType\": \"usability\", \"guardrailFailureType\": null, \"description\": \"System was slow\", \"context\": {\"model_version\": \"v2.3\", \"latency_ms\": 1310}}',\n",
       "  'created_at': '2024-11-10T19:31:25.145829'},\n",
       " {'feedback_id': '122bed42-8fdd-4791-aed3-7c5ef465eb8c',\n",
       "  'text': '{\"RACFID\": \"USER004\", \"InferenceID\": \"inf-77ccd5d7bc6a\", \"ApplicationID\": null, \"feedbackRelevance\": \"0\", \"feedbackType\": \"performance_issue\", \"guardrailFailureType\": null, \"description\": \"System was slow\", \"context\": {\"model_version\": \"v4.0\", \"latency_ms\": 188}}',\n",
       "  'created_at': '2024-03-29T19:31:26.110386'},\n",
       " {'feedback_id': '1b90af04-aa63-4b32-9ea2-d3d7674a0f76',\n",
       "  'text': '{\"RACFID\": \"USER004\", \"InferenceID\": \"inf-2357547cef25\", \"ApplicationID\": \"APP1\", \"feedbackRelevance\": \"0\", \"feedbackType\": \"guardrail_failure\", \"guardrailFailureType\": \"profanity\", \"description\": \"System was slow\", \"context\": {\"model_version\": \"v5.5\", \"latency_ms\": 1204}}',\n",
       "  'created_at': '2025-01-20T19:31:27.079600'},\n",
       " {'feedback_id': 'f45ca6de-0b89-404e-80a5-264d05358f2f',\n",
       "  'text': '{\"RACFID\": \"USER002\", \"InferenceID\": \"inf-ae7b623131d3\", \"ApplicationID\": \"APP2\", \"feedbackRelevance\": \"0\", \"feedbackType\": \"usability\", \"guardrailFailureType\": null, \"description\": null, \"context\": {\"model_version\": \"v3.3\", \"latency_ms\": 246}}',\n",
       "  'created_at': '2024-12-14T19:31:29.357915'},\n",
       " {'feedback_id': '38597350-b8ed-4c34-aaa5-79efe62ecab0',\n",
       "  'text': '{\"RACFID\": \"USER002\", \"InferenceID\": \"inf-9a3ab66e775c\", \"ApplicationID\": null, \"feedbackRelevance\": null, \"feedbackType\": \"guardrail_failure\", \"guardrailFailureType\": \"hallucination\", \"description\": null, \"context\": {\"model_version\": \"v2.7\", \"latency_ms\": 1147}}',\n",
       "  'created_at': '2024-05-21T19:31:29.034134'},\n",
       " {'feedback_id': '132d3247-5005-48af-bcb1-33214b36cb51',\n",
       "  'text': '{\"RACFID\": \"USER003\", \"InferenceID\": \"inf-8d26ca47a5c3\", \"ApplicationID\": \"APP3\", \"feedbackRelevance\": null, \"feedbackType\": \"performance_issue\", \"guardrailFailureType\": null, \"description\": \"System was slow\", \"context\": {\"model_version\": \"v4.1\", \"latency_ms\": 1400}}',\n",
       "  'created_at': '2024-11-04T19:31:24.003591'},\n",
       " {'feedback_id': 'f7c41366-2334-4ec7-97b0-f1ae6f50e349',\n",
       "  'text': '{\"RACFID\": \"USER003\", \"InferenceID\": \"inf-6a3c0235a6d2\", \"ApplicationID\": \"APP1\", \"feedbackRelevance\": \"0\", \"feedbackType\": \"usability\", \"guardrailFailureType\": null, \"description\": \"Model hallucinated data\", \"context\": {\"model_version\": \"v3.1\", \"latency_ms\": 749}}',\n",
       "  'created_at': '2024-11-20T19:31:19.941745'},\n",
       " {'feedback_id': '9e9bc6f1-94f9-4de2-af34-7e210d3fff4b',\n",
       "  'text': '{\"RACFID\": \"USER005\", \"InferenceID\": \"inf-0815f460aadc\", \"ApplicationID\": \"APP3\", \"feedbackRelevance\": \"1\", \"feedbackType\": \"guardrail_failure\", \"guardrailFailureType\": \"hallucination\", \"description\": \"Model hallucinated data\", \"context\": {\"model_version\": \"v1.4\", \"latency_ms\": 985}}',\n",
       "  'created_at': '2024-06-19T19:31:18.138369'},\n",
       " {'feedback_id': '2185b45c-33e4-4664-a1d4-d8ee13ed19bd',\n",
       "  'text': '{\"RACFID\": \"USER001\", \"InferenceID\": \"inf-859fdc2fe7ba\", \"ApplicationID\": \"APP3\", \"feedbackRelevance\": \"0\", \"feedbackType\": \"performance_issue\", \"guardrailFailureType\": null, \"description\": \"System was slow\", \"context\": {\"model_version\": \"v3.4\", \"latency_ms\": 574}}',\n",
       "  'created_at': '2024-04-22T19:31:31.322576'},\n",
       " {'feedback_id': '16a960ad-72d7-46b0-ab15-de082335dbec',\n",
       "  'text': '{\"RACFID\": \"USER003\", \"InferenceID\": \"inf-cce5606b5fc4\", \"ApplicationID\": null, \"feedbackRelevance\": null, \"feedbackType\": \"performance_issue\", \"guardrailFailureType\": null, \"description\": null, \"context\": {\"model_version\": \"v1.4\", \"latency_ms\": 1917}}',\n",
       "  'created_at': '2024-08-30T19:31:25.793379'},\n",
       " {'feedback_id': 'f5ee02ec-3760-4ca0-8e23-a17d2278cecd',\n",
       "  'text': '{\"RACFID\": \"USER004\", \"InferenceID\": \"inf-efe7a838c5c8\", \"ApplicationID\": null, \"feedbackRelevance\": \"1\", \"feedbackType\": \"usability\", \"guardrailFailureType\": null, \"description\": \"Model hallucinated data\", \"context\": {\"model_version\": \"v1.9\", \"latency_ms\": 611}}',\n",
       "  'created_at': '2024-11-22T19:31:21.418663'},\n",
       " {'feedback_id': '276cf153-6163-4b27-82dc-cf5375018535',\n",
       "  'text': '{\"RACFID\": \"USER003\", \"InferenceID\": \"inf-d82027c4824c\", \"ApplicationID\": \"APP3\", \"feedbackRelevance\": null, \"feedbackType\": null, \"guardrailFailureType\": null, \"description\": \"Model hallucinated data\", \"context\": {\"model_version\": \"v5.5\", \"latency_ms\": 201}}',\n",
       "  'created_at': '2024-11-30T19:31:26.913227'},\n",
       " {'feedback_id': '0dde9ed9-c801-440b-b18b-4bbac1cc80a8',\n",
       "  'text': '{\"RACFID\": \"USER004\", \"InferenceID\": \"inf-3c72b813459a\", \"ApplicationID\": \"APP3\", \"feedbackRelevance\": null, \"feedbackType\": \"usability\", \"guardrailFailureType\": null, \"description\": \"System was slow\", \"context\": {\"model_version\": \"v3.6\", \"latency_ms\": 267}}',\n",
       "  'created_at': '2024-07-25T19:31:15.469289'},\n",
       " {'feedback_id': '758a7a5d-7247-443b-bf33-91f187a78d07',\n",
       "  'text': '{\"RACFID\": \"USER004\", \"InferenceID\": \"inf-ac48fc5f76d3\", \"ApplicationID\": \"APP1\", \"feedbackRelevance\": \"0\", \"feedbackType\": \"usability\", \"guardrailFailureType\": null, \"description\": \"Model hallucinated data\", \"context\": {\"model_version\": \"v1.7\", \"latency_ms\": 770}}',\n",
       "  'created_at': '2024-09-05T19:31:30.832249'},\n",
       " {'feedback_id': 'b390c2df-1058-4617-aace-6e0ad366240e',\n",
       "  'text': '{\"RACFID\": \"USER003\", \"InferenceID\": \"inf-c24321885ba2\", \"ApplicationID\": null, \"feedbackRelevance\": \"0\", \"feedbackType\": null, \"guardrailFailureType\": null, \"description\": \"Model hallucinated data\", \"context\": {\"model_version\": \"v2.3\", \"latency_ms\": 1456}}',\n",
       "  'created_at': '2024-03-03T19:31:31.976061'},\n",
       " {'feedback_id': '161078a6-0188-448a-a357-6082263dc141',\n",
       "  'text': '{\"RACFID\": \"USER002\", \"InferenceID\": \"inf-db235427b38a\", \"ApplicationID\": \"APP1\", \"feedbackRelevance\": null, \"feedbackType\": null, \"guardrailFailureType\": null, \"description\": \"Model hallucinated data\", \"context\": {\"model_version\": \"v3.3\", \"latency_ms\": 88}}',\n",
       "  'created_at': '2024-06-28T19:31:17.816553'},\n",
       " {'feedback_id': '66fa542d-8419-47b3-9346-7eaca34aad22',\n",
       "  'text': '{\"RACFID\": \"USER004\", \"InferenceID\": \"inf-47c3e6ffdc48\", \"ApplicationID\": \"APP1\", \"feedbackRelevance\": \"0\", \"feedbackType\": \"guardrail_failure\", \"guardrailFailureType\": \"profanity\", \"description\": \"System was slow\", \"context\": {\"model_version\": \"v3.2\", \"latency_ms\": 1877}}',\n",
       "  'created_at': '2024-03-13T19:31:28.875534'},\n",
       " {'feedback_id': '27fc841e-d141-406f-8992-6fbdf7ace087',\n",
       "  'text': '{\"RACFID\": \"USER005\", \"InferenceID\": \"inf-ad41d8f3107d\", \"ApplicationID\": \"APP1\", \"feedbackRelevance\": \"0\", \"feedbackType\": null, \"guardrailFailureType\": null, \"description\": null, \"context\": {\"model_version\": \"v2.0\", \"latency_ms\": 327}}',\n",
       "  'created_at': '2024-09-21T19:31:29.201201'},\n",
       " {'feedback_id': '5e9d0ee2-02bf-4cee-9854-b1261a3981f8',\n",
       "  'text': '{\"RACFID\": \"USER005\", \"InferenceID\": \"inf-794ee5fb29a8\", \"ApplicationID\": \"APP3\", \"feedbackRelevance\": \"1\", \"feedbackType\": null, \"guardrailFailureType\": null, \"description\": \"Model hallucinated data\", \"context\": {\"model_version\": \"v2.9\", \"latency_ms\": 144}}',\n",
       "  'created_at': '2024-05-15T19:31:20.926214'},\n",
       " {'feedback_id': '6ad29a8c-d348-4f7b-996d-d48c8c09a7b1',\n",
       "  'text': '{\"RACFID\": \"USER003\", \"InferenceID\": \"inf-298e70071097\", \"ApplicationID\": \"APP1\", \"feedbackRelevance\": \"1\", \"feedbackType\": null, \"guardrailFailureType\": null, \"description\": null, \"context\": {\"model_version\": \"v1.3\", \"latency_ms\": 1788}}',\n",
       "  'created_at': '2024-03-30T19:31:30.506700'},\n",
       " {'feedback_id': '2d1298d0-c648-4ea0-b412-b8adebca4113',\n",
       "  'text': '{\"RACFID\": \"USER002\", \"InferenceID\": \"inf-c6384717e06e\", \"ApplicationID\": \"APP3\", \"feedbackRelevance\": \"1\", \"feedbackType\": \"guardrail_failure\", \"guardrailFailureType\": null, \"description\": \"System was slow\", \"context\": {\"model_version\": \"v3.8\", \"latency_ms\": 895}}',\n",
       "  'created_at': '2024-03-09T19:31:23.204152'},\n",
       " {'feedback_id': '85f61a45-83b8-49e3-8135-b35dcbcb716e',\n",
       "  'text': '{\"RACFID\": \"USER004\", \"InferenceID\": \"inf-49257d1b9aeb\", \"ApplicationID\": \"APP3\", \"feedbackRelevance\": null, \"feedbackType\": null, \"guardrailFailureType\": null, \"description\": \"System was slow\", \"context\": {\"model_version\": \"v5.5\", \"latency_ms\": 920}}',\n",
       "  'created_at': '2025-02-07T19:31:25.629154'},\n",
       " {'feedback_id': '8c270347-8f75-4315-8961-7d774382cc5e',\n",
       "  'text': '{\"RACFID\": \"USER003\", \"InferenceID\": \"inf-1f57425068cd\", \"ApplicationID\": null, \"feedbackRelevance\": \"1\", \"feedbackType\": \"guardrail_failure\", \"guardrailFailureType\": \"profanity\", \"description\": \"System was slow\", \"context\": {\"model_version\": \"v4.1\", \"latency_ms\": 80}}',\n",
       "  'created_at': '2024-10-28T19:31:19.774788'},\n",
       " {'feedback_id': 'aae7b69b-c3e1-4a4a-bc42-0d273f11fd7f',\n",
       "  'text': '{\"RACFID\": \"USER002\", \"InferenceID\": \"inf-a7cfb59ae5c8\", \"ApplicationID\": \"APP1\", \"feedbackRelevance\": \"1\", \"feedbackType\": null, \"guardrailFailureType\": null, \"description\": null, \"context\": {\"model_version\": \"v5.6\", \"latency_ms\": 1588}}',\n",
       "  'created_at': '2024-04-10T19:31:18.297097'},\n",
       " {'feedback_id': '28c9acd6-4e43-4d44-8cdd-a71e16e95243',\n",
       "  'text': '{\"RACFID\": \"USER003\", \"InferenceID\": \"inf-dff35d9f8eaf\", \"ApplicationID\": \"APP2\", \"feedbackRelevance\": null, \"feedbackType\": \"guardrail_failure\", \"guardrailFailureType\": \"bias\", \"description\": null, \"context\": {\"model_version\": \"v3.1\", \"latency_ms\": 856}}',\n",
       "  'created_at': '2024-06-17T19:31:30.340340'},\n",
       " {'feedback_id': '9818a573-20f8-4bfc-be3e-40ff3b79b2dd',\n",
       "  'text': '{\"RACFID\": \"USER001\", \"InferenceID\": \"inf-d18ee95f97d5\", \"ApplicationID\": \"APP3\", \"feedbackRelevance\": \"1\", \"feedbackType\": null, \"guardrailFailureType\": null, \"description\": null, \"context\": {\"model_version\": \"v4.1\", \"latency_ms\": 1015}}',\n",
       "  'created_at': '2024-11-17T19:31:17.168531'},\n",
       " {'feedback_id': '89e5120c-b1af-41f6-9f1f-f62e5dd73643',\n",
       "  'text': '{\"RACFID\": \"USER003\", \"InferenceID\": \"inf-205f78d1213e\", \"ApplicationID\": \"APP1\", \"feedbackRelevance\": \"1\", \"feedbackType\": \"usability\", \"guardrailFailureType\": null, \"description\": null, \"context\": {\"model_version\": \"v1.7\", \"latency_ms\": 500}}',\n",
       "  'created_at': '2025-01-16T19:31:21.084535'},\n",
       " {'feedback_id': '40b0935a-081f-4912-bcb6-1633f63103f8',\n",
       "  'text': '{\"RACFID\": \"USER003\", \"InferenceID\": \"inf-46e26ed97977\", \"ApplicationID\": \"APP2\", \"feedbackRelevance\": \"0\", \"feedbackType\": \"usability\", \"guardrailFailureType\": null, \"description\": \"Model hallucinated data\", \"context\": {\"model_version\": \"v4.1\", \"latency_ms\": 1573}}',\n",
       "  'created_at': '2024-09-12T19:31:17.340356'},\n",
       " {'feedback_id': '9822d065-8339-4776-922f-f3e03ee264ba',\n",
       "  'text': '{\"RACFID\": \"USER003\", \"InferenceID\": \"inf-503ac4ada26e\", \"ApplicationID\": \"APP2\", \"feedbackRelevance\": \"0\", \"feedbackType\": \"guardrail_failure\", \"guardrailFailureType\": null, \"description\": \"System was slow\", \"context\": {\"model_version\": \"v1.1\", \"latency_ms\": 183}}',\n",
       "  'created_at': '2024-07-02T19:31:30.996425'},\n",
       " {'feedback_id': 'a4961b43-c7a2-4c56-9f80-5aaa6930deed',\n",
       "  'text': '{\"RACFID\": \"USER001\", \"InferenceID\": \"inf-d760410b9992\", \"ApplicationID\": \"APP2\", \"feedbackRelevance\": \"0\", \"feedbackType\": \"performance_issue\", \"guardrailFailureType\": null, \"description\": null, \"context\": {\"model_version\": \"v3.5\", \"latency_ms\": 231}}',\n",
       "  'created_at': '2024-07-17T19:31:25.310201'},\n",
       " {'feedback_id': '8f4f9fea-468d-4b5f-bdb6-c49938ffb2df',\n",
       "  'text': '{\"RACFID\": \"USER005\", \"InferenceID\": \"inf-728db270e4e3\", \"ApplicationID\": \"APP3\", \"feedbackRelevance\": null, \"feedbackType\": null, \"guardrailFailureType\": null, \"description\": \"Model hallucinated data\", \"context\": {\"model_version\": \"v1.7\", \"latency_ms\": 497}}',\n",
       "  'created_at': '2024-03-14T19:31:17.018403'},\n",
       " {'feedback_id': '1d43275c-70a0-496f-909a-86851e46a2ed',\n",
       "  'text': '{\"RACFID\": \"USER004\", \"InferenceID\": \"inf-c5e24b939206\", \"ApplicationID\": \"APP1\", \"feedbackRelevance\": \"0\", \"feedbackType\": null, \"guardrailFailureType\": null, \"description\": \"System was slow\", \"context\": {\"model_version\": \"v3.8\", \"latency_ms\": 1086}}',\n",
       "  'created_at': '2024-10-19T19:31:32.141404'},\n",
       " {'feedback_id': 'f1c6dcbe-f4a0-4c8b-bff1-bf1745f59d90',\n",
       "  'text': '{\"RACFID\": \"USER001\", \"InferenceID\": \"inf-a073cd191213\", \"ApplicationID\": \"APP2\", \"feedbackRelevance\": null, \"feedbackType\": \"performance_issue\", \"guardrailFailureType\": null, \"description\": \"System was slow\", \"context\": {\"model_version\": \"v2.1\", \"latency_ms\": 1114}}',\n",
       "  'created_at': '2024-10-29T19:31:17.978933'}]"
      ]
     },
     "execution_count": 18,
     "metadata": {},
     "output_type": "execute_result"
    }
   ],
   "source": [
    "all_items"
   ]
  },
  {
   "cell_type": "code",
   "execution_count": 9,
   "metadata": {},
   "outputs": [
    {
     "data": {
      "text/plain": [
       "['Table']"
      ]
     },
     "execution_count": 9,
     "metadata": {},
     "output_type": "execute_result"
    }
   ],
   "source": [
    "boto3.resource('dynamodb', region_name=\"us-west-2\").get_available_subresources()"
   ]
  },
  {
   "cell_type": "code",
   "execution_count": 5,
   "metadata": {},
   "outputs": [
    {
     "name": "stdout",
     "output_type": "stream",
     "text": [
      "Error: 422 Client Error: Unprocessable Entity for url: http://127.0.0.1:8000/v1/feedback/\n",
      "Submission 1: None\n",
      "Error: 422 Client Error: Unprocessable Entity for url: http://127.0.0.1:8000/v1/feedback/\n",
      "Submission 2: None\n",
      "Error: 422 Client Error: Unprocessable Entity for url: http://127.0.0.1:8000/v1/feedback/\n",
      "Submission 3: None\n",
      "Error: 422 Client Error: Unprocessable Entity for url: http://127.0.0.1:8000/v1/feedback/\n",
      "Submission 4: None\n",
      "Error: 422 Client Error: Unprocessable Entity for url: http://127.0.0.1:8000/v1/feedback/\n",
      "Submission 5: None\n",
      "Error: 422 Client Error: Unprocessable Entity for url: http://127.0.0.1:8000/v1/feedback/\n",
      "Submission 6: None\n",
      "Error: 422 Client Error: Unprocessable Entity for url: http://127.0.0.1:8000/v1/feedback/\n",
      "Submission 7: None\n",
      "Error: 422 Client Error: Unprocessable Entity for url: http://127.0.0.1:8000/v1/feedback/\n",
      "Submission 8: None\n",
      "Error: 422 Client Error: Unprocessable Entity for url: http://127.0.0.1:8000/v1/feedback/\n",
      "Submission 9: None\n",
      "Error: 422 Client Error: Unprocessable Entity for url: http://127.0.0.1:8000/v1/feedback/\n",
      "Submission 10: None\n",
      "Error: 422 Client Error: Unprocessable Entity for url: http://127.0.0.1:8000/v1/feedback/\n",
      "Submission 11: None\n",
      "Error: 422 Client Error: Unprocessable Entity for url: http://127.0.0.1:8000/v1/feedback/\n",
      "Submission 12: None\n",
      "Error: 422 Client Error: Unprocessable Entity for url: http://127.0.0.1:8000/v1/feedback/\n",
      "Submission 13: None\n",
      "Error: 422 Client Error: Unprocessable Entity for url: http://127.0.0.1:8000/v1/feedback/\n",
      "Submission 14: None\n",
      "Error: 422 Client Error: Unprocessable Entity for url: http://127.0.0.1:8000/v1/feedback/\n",
      "Submission 15: None\n",
      "Error: 422 Client Error: Unprocessable Entity for url: http://127.0.0.1:8000/v1/feedback/\n",
      "Submission 16: None\n",
      "Error: 422 Client Error: Unprocessable Entity for url: http://127.0.0.1:8000/v1/feedback/\n",
      "Submission 17: None\n",
      "Error: 422 Client Error: Unprocessable Entity for url: http://127.0.0.1:8000/v1/feedback/\n",
      "Submission 18: None\n",
      "Error: 422 Client Error: Unprocessable Entity for url: http://127.0.0.1:8000/v1/feedback/\n",
      "Submission 19: None\n",
      "Error: 422 Client Error: Unprocessable Entity for url: http://127.0.0.1:8000/v1/feedback/\n",
      "Submission 20: None\n"
     ]
    }
   ],
   "source": [
    "import requests\n",
    "import json\n",
    "import uuid\n",
    "import random\n",
    "from datetime import datetime\n",
    "\n",
    "APPLICATION_IDS = [\"chatbot-v1\", \"customer-support-ai\", \"research-assistant\"]\n",
    "RACFIDS = [\"user-001\", \"user-002\", \"admin-001\"]\n",
    "FEEDBACK_TYPES = [\"performance_issue\", \"usability\", \"guardrail_failure\"]\n",
    "GUARDRAIL_FAILURE_TYPES = [\"profanity\", \"bias\", \"inaccuracy/hallucination\"]\n",
    "\n",
    "def generate_feedback_payload():\n",
    "    return {\n",
    "        \"inferenceId\": str(uuid.uuid4()),\n",
    "        \"racfId\": random.choice(RACFIDS),\n",
    "        \"applicationId\": random.choice(APPLICATION_IDS),\n",
    "        \"timestamp\": int(datetime.now().timestamp()),\n",
    "        \"feedbackRelevance\": random.choice([\"0\", \"1\"]),\n",
    "        \"feedbackType\": random.choice(FEEDBACK_TYPES),\n",
    "        \"guardrailFailureType\": random.choice(GUARDRAIL_FAILURE_TYPES) if random.random() < 0.3 else None,\n",
    "        \"description\": f\"Feedback for {random.choice(APPLICATION_IDS)}\",\n",
    "        \"context\": {\n",
    "            \"timestamp\": datetime.now().isoformat() + \"Z\",\n",
    "            \"userAgent\": \"TestScript/1.0\",\n",
    "            \"ipAddress\": f\"192.168.1.{random.randint(1, 255)}\",\n",
    "            \"additionalMetadata\": {\n",
    "                \"session\": str(uuid.uuid4()),\n",
    "                \"interactionCount\": random.randint(1, 50)\n",
    "            }\n",
    "        }\n",
    "    }\n",
    "\n",
    "def submit_feedback(url, payload):\n",
    "    try:\n",
    "        response = requests.post(url, \n",
    "                                 headers={'Content-Type': 'application/json'},\n",
    "                                 data=json.dumps(payload))\n",
    "        response.raise_for_status()\n",
    "        return response.json()\n",
    "    except requests.RequestException as e:\n",
    "        print(f\"Error: {e}\")\n",
    "        return None\n",
    "\n",
    "def main():\n",
    "    BASE_URL = \"http://127.0.0.1:8000/v1/feedback/\"\n",
    "    for i in range(20):\n",
    "        payload = generate_feedback_payload()\n",
    "        result = submit_feedback(BASE_URL, payload)\n",
    "        print(f\"Submission {i+1}: {result}\")\n",
    "\n",
    "if __name__ == \"__main__\":\n",
    "    main()"
   ]
  },
  {
   "cell_type": "code",
   "execution_count": null,
   "metadata": {},
   "outputs": [],
   "source": [
    "\n",
    "# Curl equivalent for single submission\n",
    "\"\"\"\n",
    "curl -X 'POST' \\\n",
    "  'http://127.0.0.1:8000/v1/feedback/' \\\n",
    "  -H 'accept: application/json' \\\n",
    "  -H 'Content-Type: application/json' \\\n",
    "  -d '{\n",
    "  \"RACFID\": \"user-001\",\n",
    "  \"InferenceID\": \"inference-123-456\",\n",
    "  \"ApplicationID\": \"chatbot-v1\",\n",
    "  \"feedbackRelevance\": \"1\",\n",
    "  \"feedbackType\": \"performance_issue\",\n",
    "  \"guardrailFailureType\": \"hallucination\",\n",
    "  \"description\": \"AI provided inaccurate information about recent events\",\n",
    "  \"context\": {\n",
    "    \"timestamp\": \"2025-03-04T12:00:00Z\",\n",
    "    \"userAgent\": \"Chrome/91.0\",\n",
    "    \"ipAddress\": \"192.168.1.100\",\n",
    "    \"additionalMetadata\": {\n",
    "      \"session\": \"session-789-012\",\n",
    "      \"interactionCount\": 15\n",
    "    }\n",
    "  }\n",
    "}'\n",
    "\"\"\"\n",
    "\n",
    "# OpenAPI/Swagger Test Payload Example\n",
    "\"\"\"\n",
    "\n",
    "\"\"\""
   ]
  },
  {
   "cell_type": "code",
   "execution_count": null,
   "metadata": {},
   "outputs": [],
   "source": [
    "!openapi-python-client generate --path openapi.yaml"
   ]
  },
  {
   "cell_type": "code",
   "execution_count": null,
   "metadata": {},
   "outputs": [],
   "source": [
    "from op"
   ]
  }
 ],
 "metadata": {
  "kernelspec": {
   "display_name": "ds-env311",
   "language": "python",
   "name": "python3"
  },
  "language_info": {
   "codemirror_mode": {
    "name": "ipython",
    "version": 3
   },
   "file_extension": ".py",
   "mimetype": "text/x-python",
   "name": "python",
   "nbconvert_exporter": "python",
   "pygments_lexer": "ipython3",
   "version": "3.11.11"
  }
 },
 "nbformat": 4,
 "nbformat_minor": 2
}
